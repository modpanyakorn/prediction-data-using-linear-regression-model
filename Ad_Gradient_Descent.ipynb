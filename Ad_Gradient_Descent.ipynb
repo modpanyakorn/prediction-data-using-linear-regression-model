{
 "cells": [
  {
   "cell_type": "markdown",
   "id": "eef7c371-f36c-450b-b6ca-c92fc53af0c3",
   "metadata": {
    "id": "eef7c371-f36c-450b-b6ca-c92fc53af0c3"
   },
   "source": [
    "# Gradient Descent"
   ]
  },
  {
   "cell_type": "code",
   "execution_count": 2,
   "id": "54fe4343-a60f-48b4-ad7d-c2c91a3425a4",
   "metadata": {
    "id": "54fe4343-a60f-48b4-ad7d-c2c91a3425a4"
   },
   "outputs": [],
   "source": [
    "import numpy as np\n",
    "import pandas as pd\n",
    "import matplotlib.pyplot as plt\n",
    "import seaborn as sns\n",
    "import plotly.graph_objects as go\n",
    "from tqdm import tqdm\n",
    "\n",
    "from sklearn.model_selection import train_test_split\n",
    "from sklearn.metrics import r2_score"
   ]
  },
  {
   "cell_type": "markdown",
   "id": "d41bffb4-26d9-48bb-a442-594f445510d4",
   "metadata": {
    "id": "d41bffb4-26d9-48bb-a442-594f445510d4"
   },
   "source": [
    "<h3>Import Data Set <code>Advertising.csv</code></h3>"
   ]
  },
  {
   "cell_type": "code",
   "execution_count": 3,
   "id": "4be3c124-b36b-4d0a-8ffe-cb285777fc7c",
   "metadata": {
    "id": "4be3c124-b36b-4d0a-8ffe-cb285777fc7c"
   },
   "outputs": [
    {
     "data": {
      "text/html": [
       "<div>\n",
       "<style scoped>\n",
       "    .dataframe tbody tr th:only-of-type {\n",
       "        vertical-align: middle;\n",
       "    }\n",
       "\n",
       "    .dataframe tbody tr th {\n",
       "        vertical-align: top;\n",
       "    }\n",
       "\n",
       "    .dataframe thead th {\n",
       "        text-align: right;\n",
       "    }\n",
       "</style>\n",
       "<table border=\"1\" class=\"dataframe\">\n",
       "  <thead>\n",
       "    <tr style=\"text-align: right;\">\n",
       "      <th></th>\n",
       "      <th>Unnamed: 0</th>\n",
       "      <th>TV</th>\n",
       "      <th>Radio</th>\n",
       "      <th>Newspaper</th>\n",
       "      <th>Sales</th>\n",
       "    </tr>\n",
       "  </thead>\n",
       "  <tbody>\n",
       "    <tr>\n",
       "      <th>0</th>\n",
       "      <td>57</td>\n",
       "      <td>7.3</td>\n",
       "      <td>28.1</td>\n",
       "      <td>41.4</td>\n",
       "      <td>5.5</td>\n",
       "    </tr>\n",
       "    <tr>\n",
       "      <th>1</th>\n",
       "      <td>127</td>\n",
       "      <td>7.8</td>\n",
       "      <td>38.9</td>\n",
       "      <td>50.6</td>\n",
       "      <td>6.6</td>\n",
       "    </tr>\n",
       "    <tr>\n",
       "      <th>2</th>\n",
       "      <td>133</td>\n",
       "      <td>8.4</td>\n",
       "      <td>27.2</td>\n",
       "      <td>2.1</td>\n",
       "      <td>5.7</td>\n",
       "    </tr>\n",
       "    <tr>\n",
       "      <th>3</th>\n",
       "      <td>6</td>\n",
       "      <td>8.7</td>\n",
       "      <td>48.9</td>\n",
       "      <td>75.0</td>\n",
       "      <td>7.2</td>\n",
       "    </tr>\n",
       "    <tr>\n",
       "      <th>4</th>\n",
       "      <td>159</td>\n",
       "      <td>11.7</td>\n",
       "      <td>36.9</td>\n",
       "      <td>45.2</td>\n",
       "      <td>7.3</td>\n",
       "    </tr>\n",
       "  </tbody>\n",
       "</table>\n",
       "</div>"
      ],
      "text/plain": [
       "   Unnamed: 0    TV  Radio  Newspaper  Sales\n",
       "0          57   7.3   28.1       41.4    5.5\n",
       "1         127   7.8   38.9       50.6    6.6\n",
       "2         133   8.4   27.2        2.1    5.7\n",
       "3           6   8.7   48.9       75.0    7.2\n",
       "4         159  11.7   36.9       45.2    7.3"
      ]
     },
     "execution_count": 3,
     "metadata": {},
     "output_type": "execute_result"
    }
   ],
   "source": [
    "# Data Set reference from url: \"kaggle.com/datasets/bumba5341/advertisingcsv/data\"\n",
    "url_dataset = 'https://raw.githubusercontent.com/panyakorn5058/Prediction_Data_using_Linear_Regression_Model/main/Advertising.csv'\n",
    "df_Ad = pd.read_csv(url_dataset)\n",
    "df_Ad.head()"
   ]
  },
  {
   "cell_type": "code",
   "execution_count": 4,
   "id": "acb22ade-d46c-407e-8c74-ac733e090821",
   "metadata": {
    "id": "acb22ade-d46c-407e-8c74-ac733e090821"
   },
   "outputs": [
    {
     "name": "stdout",
     "output_type": "stream",
     "text": [
      "<class 'pandas.core.frame.DataFrame'>\n",
      "RangeIndex: 194 entries, 0 to 193\n",
      "Data columns (total 5 columns):\n",
      " #   Column      Non-Null Count  Dtype  \n",
      "---  ------      --------------  -----  \n",
      " 0   Unnamed: 0  194 non-null    int64  \n",
      " 1   TV          194 non-null    float64\n",
      " 2   Radio       194 non-null    float64\n",
      " 3   Newspaper   194 non-null    float64\n",
      " 4   Sales       194 non-null    float64\n",
      "dtypes: float64(4), int64(1)\n",
      "memory usage: 7.7 KB\n"
     ]
    }
   ],
   "source": [
    "df_Ad.info()"
   ]
  },
  {
   "cell_type": "code",
   "execution_count": 5,
   "id": "a70f05f8-e351-4749-8437-e669ab0f49d6",
   "metadata": {
    "id": "a70f05f8-e351-4749-8437-e669ab0f49d6"
   },
   "outputs": [
    {
     "data": {
      "text/plain": [
       "Unnamed: 0    0\n",
       "TV            0\n",
       "Radio         0\n",
       "Newspaper     0\n",
       "Sales         0\n",
       "dtype: int64"
      ]
     },
     "execution_count": 5,
     "metadata": {},
     "output_type": "execute_result"
    }
   ],
   "source": [
    "df_Ad.isnull().sum()"
   ]
  },
  {
   "cell_type": "code",
   "execution_count": 6,
   "id": "c0874d37-f62a-4abe-9ae2-d2bc92e6252f",
   "metadata": {
    "id": "c0874d37-f62a-4abe-9ae2-d2bc92e6252f"
   },
   "outputs": [],
   "source": [
    "df_Ad.drop('Unnamed: 0', axis=1, inplace=True)"
   ]
  },
  {
   "cell_type": "code",
   "execution_count": 7,
   "id": "bf09f578-facf-4ff4-a1cd-5467f0d7fca5",
   "metadata": {},
   "outputs": [
    {
     "data": {
      "text/plain": [
       "<Axes: >"
      ]
     },
     "execution_count": 7,
     "metadata": {},
     "output_type": "execute_result"
    },
    {
     "data": {
      "image/png": "[encoded data removed]",
      "text/plain": [
       "<Figure size 640x480 with 2 Axes>"
      ]
     },
     "metadata": {},
     "output_type": "display_data"
    }
   ],
   "source": [
    "sns.heatmap(df_Ad.describe(), annot=True, fmt=\".4f\", annot_kws={'weight': 'bold'})"
   ]
  },
  {
   "cell_type": "markdown",
   "id": "2486c4ca-5985-43f2-ad1a-8701699a76ad",
   "metadata": {
    "id": "2486c4ca-5985-43f2-ad1a-8701699a76ad"
   },
   "source": [
    "<h4> Calculate <code>Correlation Coefficient (Pearson's)</code> for display relation of data</h4>\n",
    "<h2>$$r = \\frac{\\sum_{i=1}^{n}(x_i - \\bar{x})(y_i - \\bar{y})}{\\sqrt{\\sum_{i=1}^{n}(x_i - \\bar{x})^2 \\sum_{i=1}^{n}(y_i - \\bar{y})^2}}$$</h2>\n",
    "<h4>or use function<code>dataframe.corr()</code></h4>"
   ]
  },
  {
   "cell_type": "code",
   "execution_count": 22,
   "id": "8eff2fcf-7d9f-4a45-b4d4-ce2509d3c726",
   "metadata": {
    "id": "8eff2fcf-7d9f-4a45-b4d4-ce2509d3c726"
   },
   "outputs": [
    {
     "data": {
      "text/plain": [
       "<Axes: >"
      ]
     },
     "execution_count": 22,
     "metadata": {},
     "output_type": "execute_result"
    },
    {
     "data": {
      "image/png": "[encoded data removed]",
      "text/plain": [
       "<Figure size 640x480 with 2 Axes>"
      ]
     },
     "metadata": {},
     "output_type": "display_data"
    }
   ],
   "source": [
    "sns.heatmap(df_Ad.corr(), annot=True, fmt='.4f', annot_kws={\"weight\": \"bold\"})"
   ]
  },
  {
   "cell_type": "markdown",
   "id": "5545fbc3-5641-4ff2-b9dd-8d59662b2cae",
   "metadata": {
    "id": "5545fbc3-5641-4ff2-b9dd-8d59662b2cae"
   },
   "source": [
    "<h3>Scatter Plot</h3>"
   ]
  },
  {
   "cell_type": "code",
   "execution_count": 9,
   "id": "dc1ab7dc-6ed7-456e-8a52-022e1590a532",
   "metadata": {
    "id": "dc1ab7dc-6ed7-456e-8a52-022e1590a532"
   },
   "outputs": [
    {
     "data": {
      "application/vnd.plotly.v1+json": {
       "config": {
        "plotlyServerURL": "https://plot.ly"
       },
       "data": [
        {
         "mode": "markers",
         "name": "Data",
         "type": "scatter",
         "x": [
          7.3,
          7.8,
          8.4,
          8.7,
          11.7,
          13.1,
          13.2,
          16.9,
          17.2,
          17.2,
          17.9,
          18.7,
          18.8,
          19.4,
          19.6,
          23.8,
          25,
          25.1,
          25.6,
          26.8,
          27.5,
          28.6,
          31.5,
          36.9,
          38,
          38.2,
          39.5,
          43,
          43.1,
          44.5,
          44.7,
          48.3,
          50,
          53.5,
          56.2,
          57.5,
          59.6,
          62.3,
          66.1,
          66.9,
          67.8,
          68.4,
          69,
          69.2,
          70.6,
          73.4,
          74.7,
          75.1,
          75.3,
          75.5,
          76.3,
          76.4,
          76.4,
          78.2,
          80.2,
          85.7,
          87.2,
          88.3,
          89.7,
          90.4,
          93.9,
          94.2,
          95.7,
          96.2,
          97.2,
          97.5,
          100.4,
          102.7,
          104.6,
          107.4,
          109.8,
          109.8,
          110.7,
          112.9,
          116,
          117.2,
          120.2,
          120.5,
          121,
          123.1,
          125.7,
          129.4,
          131.1,
          131.7,
          134.3,
          135.2,
          136.2,
          137.9,
          139.2,
          139.3,
          139.5,
          140.3,
          141.3,
          142.9,
          147.3,
          149.7,
          149.8,
          151.5,
          156.6,
          163.3,
          163.5,
          164.5,
          165.6,
          166.8,
          168.4,
          170.2,
          171.3,
          172.5,
          175.1,
          175.7,
          177,
          177,
          180.8,
          182.6,
          184.9,
          184.9,
          187.8,
          187.9,
          188.4,
          191.1,
          193.2,
          193.7,
          195.4,
          197.6,
          197.6,
          198.9,
          199.1,
          202.5,
          204.1,
          205,
          206.8,
          206.9,
          209.6,
          210.7,
          210.8,
          213.4,
          213.5,
          214.7,
          215.4,
          216.4,
          216.8,
          217.7,
          218.4,
          218.5,
          219.8,
          220.3,
          220.5,
          222.4,
          222.4,
          224,
          225.8,
          227.2,
          228,
          228.3,
          229.5,
          230.1,
          232.1,
          234.5,
          237.4,
          237.4,
          238.2,
          239.3,
          239.8,
          239.9,
          240.1,
          240.1,
          241.7,
          243.2,
          248.4,
          248.8,
          250.9,
          253.8,
          255.4,
          261.3,
          262.7,
          262.9,
          265.2,
          265.6,
          266.9,
          273.7,
          276.7,
          276.9,
          280.2,
          280.7,
          281.4,
          283.6,
          284.3,
          286,
          287.6,
          289.7,
          290.7,
          292.9,
          293.6,
          296.4
         ],
         "y": [
          5.5,
          6.6,
          5.7,
          7.2,
          7.3,
          5.3,
          5.6,
          8.7,
          9.3,
          5.9,
          8,
          6.7,
          7,
          6.6,
          7.6,
          9.2,
          7.2,
          8.5,
          9.5,
          8.8,
          6.9,
          7.3,
          9.5,
          10.8,
          10.9,
          7.6,
          10.8,
          9.6,
          10.1,
          10.4,
          10.1,
          11.6,
          8.4,
          8.1,
          8.7,
          11.8,
          9.7,
          9.7,
          8.6,
          9.7,
          12.5,
          13.6,
          9.3,
          11.3,
          10.5,
          10.9,
          14.7,
          12.6,
          11.3,
          9.9,
          12,
          11.8,
          9.4,
          14.6,
          8.8,
          13.3,
          10.6,
          12.9,
          10.6,
          8.7,
          15.3,
          9.7,
          9.5,
          11.4,
          9.6,
          9.7,
          10.7,
          14,
          10.4,
          11.5,
          12.4,
          16.7,
          16,
          11.9,
          11,
          11.9,
          13.2,
          14.2,
          11.6,
          15.2,
          15.9,
          11,
          18,
          12.9,
          11.2,
          17.2,
          13.2,
          19.2,
          12.2,
          13.4,
          10.3,
          10.3,
          15.5,
          15,
          14.6,
          17.3,
          10.1,
          18.5,
          10.5,
          16.9,
          18,
          14.5,
          12.6,
          19.6,
          11.7,
          11.7,
          19,
          14.4,
          14.9,
          14.1,
          17.1,
          12.8,
          12.9,
          21.2,
          15.5,
          20.7,
          15.6,
          14.7,
          14.9,
          17.3,
          15.2,
          19.2,
          22.4,
          11.7,
          16.6,
          23.7,
          18.3,
          16.6,
          19,
          22.6,
          12.2,
          12.9,
          15.9,
          18.4,
          23.8,
          17,
          21.7,
          17.4,
          17.1,
          22.6,
          22.3,
          19.4,
          18,
          12.2,
          19.6,
          24.7,
          20.1,
          11.7,
          11.5,
          11.6,
          13.4,
          14.8,
          21.5,
          15.5,
          19.7,
          22.1,
          13.4,
          11.9,
          12.5,
          18.9,
          20.7,
          15.7,
          12.3,
          23.2,
          15.9,
          13.2,
          21.8,
          25.4,
          20.2,
          18.9,
          22.2,
          17.6,
          19.8,
          24.2,
          20.2,
          12,
          12.7,
          17.4,
          25.4,
          20.8,
          11.8,
          27,
          14.8,
          16.1,
          24.4,
          25.5,
          15,
          15.9,
          26.2,
          25.4,
          12.8,
          21.4,
          20.7,
          23.8
         ]
        }
       ],
       "layout": {
        "template": {
         "data": {
          "bar": [
           {
            "error_x": {
             "color": "#2a3f5f"
            },
            "error_y": {
             "color": "#2a3f5f"
            },
            "marker": {
             "line": {
              "color": "#E5ECF6",
              "width": 0.5
             },
             "pattern": {
              "fillmode": "overlay",
              "size": 10,
              "solidity": 0.2
             }
            },
            "type": "bar"
           }
          ],
          "barpolar": [
           {
            "marker": {
             "line": {
              "color": "#E5ECF6",
              "width": 0.5
             },
             "pattern": {
              "fillmode": "overlay",
              "size": 10,
              "solidity": 0.2
             }
            },
            "type": "barpolar"
           }
          ],
          "carpet": [
           {
            "aaxis": {
             "endlinecolor": "#2a3f5f",
             "gridcolor": "white",
             "linecolor": "white",
             "minorgridcolor": "white",
             "startlinecolor": "#2a3f5f"
            },
            "baxis": {
             "endlinecolor": "#2a3f5f",
             "gridcolor": "white",
             "linecolor": "white",
             "minorgridcolor": "white",
             "startlinecolor": "#2a3f5f"
            },
            "type": "carpet"
           }
          ],
          "choropleth": [
           {
            "colorbar": {
             "outlinewidth": 0,
             "ticks": ""
            },
            "type": "choropleth"
           }
          ],
          "contour": [
           {
            "colorbar": {
             "outlinewidth": 0,
             "ticks": ""
            },
            "colorscale": [
             [
              0,
              "#0d0887"
             ],
             [
              0.1111111111111111,
              "#46039f"
             ],
             [
              0.2222222222222222,
              "#7201a8"
             ],
             [
              0.3333333333333333,
              "#9c179e"
             ],
             [
              0.4444444444444444,
              "#bd3786"
             ],
             [
              0.5555555555555556,
              "#d8576b"
             ],
             [
              0.6666666666666666,
              "#ed7953"
             ],
             [
              0.7777777777777778,
              "#fb9f3a"
             ],
             [
              0.8888888888888888,
              "#fdca26"
             ],
             [
              1,
              "#f0f921"
             ]
            ],
            "type": "contour"
           }
          ],
          "contourcarpet": [
           {
            "colorbar": {
             "outlinewidth": 0,
             "ticks": ""
            },
            "type": "contourcarpet"
           }
          ],
          "heatmap": [
           {
            "colorbar": {
             "outlinewidth": 0,
             "ticks": ""
            },
            "colorscale": [
             [
              0,
              "#0d0887"
             ],
             [
              0.1111111111111111,
              "#46039f"
             ],
             [
              0.2222222222222222,
              "#7201a8"
             ],
             [
              0.3333333333333333,
              "#9c179e"
             ],
             [
              0.4444444444444444,
              "#bd3786"
             ],
             [
              0.5555555555555556,
              "#d8576b"
             ],
             [
              0.6666666666666666,
              "#ed7953"
             ],
             [
              0.7777777777777778,
              "#fb9f3a"
             ],
             [
              0.8888888888888888,
              "#fdca26"
             ],
             [
              1,
              "#f0f921"
             ]
            ],
            "type": "heatmap"
           }
          ],
          "heatmapgl": [
           {
            "colorbar": {
             "outlinewidth": 0,
             "ticks": ""
            },
            "colorscale": [
             [
              0,
              "#0d0887"
             ],
             [
              0.1111111111111111,
              "#46039f"
             ],
             [
              0.2222222222222222,
              "#7201a8"
             ],
             [
              0.3333333333333333,
              "#9c179e"
             ],
             [
              0.4444444444444444,
              "#bd3786"
             ],
             [
              0.5555555555555556,
              "#d8576b"
             ],
             [
              0.6666666666666666,
              "#ed7953"
             ],
             [
              0.7777777777777778,
              "#fb9f3a"
             ],
             [
              0.8888888888888888,
              "#fdca26"
             ],
             [
              1,
              "#f0f921"
             ]
            ],
            "type": "heatmapgl"
           }
          ],
          "histogram": [
           {
            "marker": {
             "pattern": {
              "fillmode": "overlay",
              "size": 10,
              "solidity": 0.2
             }
            },
            "type": "histogram"
           }
          ],
          "histogram2d": [
           {
            "colorbar": {
             "outlinewidth": 0,
             "ticks": ""
            },
            "colorscale": [
             [
              0,
              "#0d0887"
             ],
             [
              0.1111111111111111,
              "#46039f"
             ],
             [
              0.2222222222222222,
              "#7201a8"
             ],
             [
              0.3333333333333333,
              "#9c179e"
             ],
             [
              0.4444444444444444,
              "#bd3786"
             ],
             [
              0.5555555555555556,
              "#d8576b"
             ],
             [
              0.6666666666666666,
              "#ed7953"
             ],
             [
              0.7777777777777778,
              "#fb9f3a"
             ],
             [
              0.8888888888888888,
              "#fdca26"
             ],
             [
              1,
              "#f0f921"
             ]
            ],
            "type": "histogram2d"
           }
          ],
          "histogram2dcontour": [
           {
            "colorbar": {
             "outlinewidth": 0,
             "ticks": ""
            },
            "colorscale": [
             [
              0,
              "#0d0887"
             ],
             [
              0.1111111111111111,
              "#46039f"
             ],
             [
              0.2222222222222222,
              "#7201a8"
             ],
             [
              0.3333333333333333,
              "#9c179e"
             ],
             [
              0.4444444444444444,
              "#bd3786"
             ],
             [
              0.5555555555555556,
              "#d8576b"
             ],
             [
              0.6666666666666666,
              "#ed7953"
             ],
             [
              0.7777777777777778,
              "#fb9f3a"
             ],
             [
              0.8888888888888888,
              "#fdca26"
             ],
             [
              1,
              "#f0f921"
             ]
            ],
            "type": "histogram2dcontour"
           }
          ],
          "mesh3d": [
           {
            "colorbar": {
             "outlinewidth": 0,
             "ticks": ""
            },
            "type": "mesh3d"
           }
          ],
          "parcoords": [
           {
            "line": {
             "colorbar": {
              "outlinewidth": 0,
              "ticks": ""
             }
            },
            "type": "parcoords"
           }
          ],
          "pie": [
           {
            "automargin": true,
            "type": "pie"
           }
          ],
          "scatter": [
           {
            "fillpattern": {
             "fillmode": "overlay",
             "size": 10,
             "solidity": 0.2
            },
            "type": "scatter"
           }
          ],
          "scatter3d": [
           {
            "line": {
             "colorbar": {
              "outlinewidth": 0,
              "ticks": ""
             }
            },
            "marker": {
             "colorbar": {
              "outlinewidth": 0,
              "ticks": ""
             }
            },
            "type": "scatter3d"
           }
          ],
          "scattercarpet": [
           {
            "marker": {
             "colorbar": {
              "outlinewidth": 0,
              "ticks": ""
             }
            },
            "type": "scattercarpet"
           }
          ],
          "scattergeo": [
           {
            "marker": {
             "colorbar": {
              "outlinewidth": 0,
              "ticks": ""
             }
            },
            "type": "scattergeo"
           }
          ],
          "scattergl": [
           {
            "marker": {
             "colorbar": {
              "outlinewidth": 0,
              "ticks": ""
             }
            },
            "type": "scattergl"
           }
          ],
          "scattermapbox": [
           {
            "marker": {
             "colorbar": {
              "outlinewidth": 0,
              "ticks": ""
             }
            },
            "type": "scattermapbox"
           }
          ],
          "scatterpolar": [
           {
            "marker": {
             "colorbar": {
              "outlinewidth": 0,
              "ticks": ""
             }
            },
            "type": "scatterpolar"
           }
          ],
          "scatterpolargl": [
           {
            "marker": {
             "colorbar": {
              "outlinewidth": 0,
              "ticks": ""
             }
            },
            "type": "scatterpolargl"
           }
          ],
          "scatterternary": [
           {
            "marker": {
             "colorbar": {
              "outlinewidth": 0,
              "ticks": ""
             }
            },
            "type": "scatterternary"
           }
          ],
          "surface": [
           {
            "colorbar": {
             "outlinewidth": 0,
             "ticks": ""
            },
            "colorscale": [
             [
              0,
              "#0d0887"
             ],
             [
              0.1111111111111111,
              "#46039f"
             ],
             [
              0.2222222222222222,
              "#7201a8"
             ],
             [
              0.3333333333333333,
              "#9c179e"
             ],
             [
              0.4444444444444444,
              "#bd3786"
             ],
             [
              0.5555555555555556,
              "#d8576b"
             ],
             [
              0.6666666666666666,
              "#ed7953"
             ],
             [
              0.7777777777777778,
              "#fb9f3a"
             ],
             [
              0.8888888888888888,
              "#fdca26"
             ],
             [
              1,
              "#f0f921"
             ]
            ],
            "type": "surface"
           }
          ],
          "table": [
           {
            "cells": {
             "fill": {
              "color": "#EBF0F8"
             },
             "line": {
              "color": "white"
             }
            },
            "header": {
             "fill": {
              "color": "#C8D4E3"
             },
             "line": {
              "color": "white"
             }
            },
            "type": "table"
           }
          ]
         },
         "layout": {
          "annotationdefaults": {
           "arrowcolor": "#2a3f5f",
           "arrowhead": 0,
           "arrowwidth": 1
          },
          "autotypenumbers": "strict",
          "coloraxis": {
           "colorbar": {
            "outlinewidth": 0,
            "ticks": ""
           }
          },
          "colorscale": {
           "diverging": [
            [
             0,
             "#8e0152"
            ],
            [
             0.1,
             "#c51b7d"
            ],
            [
             0.2,
             "#de77ae"
            ],
            [
             0.3,
             "#f1b6da"
            ],
            [
             0.4,
             "#fde0ef"
            ],
            [
             0.5,
             "#f7f7f7"
            ],
            [
             0.6,
             "#e6f5d0"
            ],
            [
             0.7,
             "#b8e186"
            ],
            [
             0.8,
             "#7fbc41"
            ],
            [
             0.9,
             "#4d9221"
            ],
            [
             1,
             "#276419"
            ]
           ],
           "sequential": [
            [
             0,
             "#0d0887"
            ],
            [
             0.1111111111111111,
             "#46039f"
            ],
            [
             0.2222222222222222,
             "#7201a8"
            ],
            [
             0.3333333333333333,
             "#9c179e"
            ],
            [
             0.4444444444444444,
             "#bd3786"
            ],
            [
             0.5555555555555556,
             "#d8576b"
            ],
            [
             0.6666666666666666,
             "#ed7953"
            ],
            [
             0.7777777777777778,
             "#fb9f3a"
            ],
            [
             0.8888888888888888,
             "#fdca26"
            ],
            [
             1,
             "#f0f921"
            ]
           ],
           "sequentialminus": [
            [
             0,
             "#0d0887"
            ],
            [
             0.1111111111111111,
             "#46039f"
            ],
            [
             0.2222222222222222,
             "#7201a8"
            ],
            [
             0.3333333333333333,
             "#9c179e"
            ],
            [
             0.4444444444444444,
             "#bd3786"
            ],
            [
             0.5555555555555556,
             "#d8576b"
            ],
            [
             0.6666666666666666,
             "#ed7953"
            ],
            [
             0.7777777777777778,
             "#fb9f3a"
            ],
            [
             0.8888888888888888,
             "#fdca26"
            ],
            [
             1,
             "#f0f921"
            ]
           ]
          },
          "colorway": [
           "#636efa",
           "#EF553B",
           "#00cc96",
           "#ab63fa",
           "#FFA15A",
           "#19d3f3",
           "#FF6692",
           "#B6E880",
           "#FF97FF",
           "#FECB52"
          ],
          "font": {
           "color": "#2a3f5f"
          },
          "geo": {
           "bgcolor": "white",
           "lakecolor": "white",
           "landcolor": "#E5ECF6",
           "showlakes": true,
           "showland": true,
           "subunitcolor": "white"
          },
          "hoverlabel": {
           "align": "left"
          },
          "hovermode": "closest",
          "mapbox": {
           "style": "light"
          },
          "paper_bgcolor": "white",
          "plot_bgcolor": "#E5ECF6",
          "polar": {
           "angularaxis": {
            "gridcolor": "white",
            "linecolor": "white",
            "ticks": ""
           },
           "bgcolor": "#E5ECF6",
           "radialaxis": {
            "gridcolor": "white",
            "linecolor": "white",
            "ticks": ""
           }
          },
          "scene": {
           "xaxis": {
            "backgroundcolor": "#E5ECF6",
            "gridcolor": "white",
            "gridwidth": 2,
            "linecolor": "white",
            "showbackground": true,
            "ticks": "",
            "zerolinecolor": "white"
           },
           "yaxis": {
            "backgroundcolor": "#E5ECF6",
            "gridcolor": "white",
            "gridwidth": 2,
            "linecolor": "white",
            "showbackground": true,
            "ticks": "",
            "zerolinecolor": "white"
           },
           "zaxis": {
            "backgroundcolor": "#E5ECF6",
            "gridcolor": "white",
            "gridwidth": 2,
            "linecolor": "white",
            "showbackground": true,
            "ticks": "",
            "zerolinecolor": "white"
           }
          },
          "shapedefaults": {
           "line": {
            "color": "#2a3f5f"
           }
          },
          "ternary": {
           "aaxis": {
            "gridcolor": "white",
            "linecolor": "white",
            "ticks": ""
           },
           "baxis": {
            "gridcolor": "white",
            "linecolor": "white",
            "ticks": ""
           },
           "bgcolor": "#E5ECF6",
           "caxis": {
            "gridcolor": "white",
            "linecolor": "white",
            "ticks": ""
           }
          },
          "title": {
           "x": 0.05
          },
          "xaxis": {
           "automargin": true,
           "gridcolor": "white",
           "linecolor": "white",
           "ticks": "",
           "title": {
            "standoff": 15
           },
           "zerolinecolor": "white",
           "zerolinewidth": 2
          },
          "yaxis": {
           "automargin": true,
           "gridcolor": "white",
           "linecolor": "white",
           "ticks": "",
           "title": {
            "standoff": 15
           },
           "zerolinecolor": "white",
           "zerolinewidth": 2
          }
         }
        }
       }
      }
     },
     "metadata": {},
     "output_type": "display_data"
    }
   ],
   "source": [
    "go.Figure(go.Scatter(x=df_Ad.TV, y=df_Ad.Sales, mode='markers', name='Data'))"
   ]
  },
  {
   "cell_type": "markdown",
   "id": "5e07ae43-5202-453d-a579-27afa369b507",
   "metadata": {
    "id": "5e07ae43-5202-453d-a579-27afa369b507"
   },
   "source": [
    "<h3>Data Spliting <code>Train Test Split</code></h3>"
   ]
  },
  {
   "cell_type": "code",
   "execution_count": 10,
   "id": "3940dca1-5a0d-4364-a972-c3542b995382",
   "metadata": {
    "id": "3940dca1-5a0d-4364-a972-c3542b995382"
   },
   "outputs": [],
   "source": [
    "# Train test split\n",
    "X = np.array(df_Ad.TV)\n",
    "y = np.array(df_Ad.Sales)\n",
    "X_train, X_test, y_train, y_test = train_test_split(X, y, test_size=0.25, random_state=42) # 58 699199"
   ]
  },
  {
   "cell_type": "code",
   "execution_count": 11,
   "id": "45a76aaf-9d29-4a2d-bb37-3347863ef868",
   "metadata": {
    "id": "45a76aaf-9d29-4a2d-bb37-3347863ef868"
   },
   "outputs": [
    {
     "name": "stdout",
     "output_type": "stream",
     "text": [
      "X_train size = 145 \n",
      "y_train size = 145 \n",
      "------------------\n",
      "X_test size = 49 \n",
      "y_test size = 49\n"
     ]
    }
   ],
   "source": [
    "print(f\"X_train size = {X_train.size} \\ny_train size = {y_train.size} \\n------------------\")\n",
    "print(f\"X_test size = {X_test.size} \\ny_test size = {y_test.size}\")"
   ]
  },
  {
   "cell_type": "markdown",
   "id": "fdfcc27b-3bfd-4150-b844-8872354b4e57",
   "metadata": {
    "id": "fdfcc27b-3bfd-4150-b844-8872354b4e57"
   },
   "source": [
    "<h3><h3>SSE (Sum of Squares Error) using $mean(y)$ prediction</h3></h3>\n",
    "<h2>$$SSE=\\sum_{i=0}^n(y_i - \\bar{y})^2$$</h2>"
   ]
  },
  {
   "cell_type": "code",
   "execution_count": 12,
   "id": "5f3ec29d-5389-4685-94f3-51cbd3690ca0",
   "metadata": {},
   "outputs": [
    {
     "data": {
      "application/vnd.plotly.v1+json": {
       "config": {
        "plotlyServerURL": "https://plot.ly"
       },
       "data": [
        {
         "mode": "markers",
         "name": "Data Point",
         "type": "scatter",
         "x": [
          97.5,
          168.4,
          237.4,
          121,
          120.2,
          44.5,
          213.5,
          93.9,
          76.4,
          240.1,
          66.1,
          48.3,
          261.3,
          18.8,
          175.7,
          68.4,
          209.6,
          163.5,
          39.5,
          204.1,
          284.3,
          156.6,
          8.4,
          74.7,
          214.7,
          139.5,
          220.3,
          59.6,
          283.6,
          31.5,
          199.1,
          222.4,
          53.5,
          18.7,
          197.6,
          229.5,
          13.2,
          43,
          239.3,
          11.7,
          50,
          218.5,
          216.8,
          151.5,
          216.4,
          17.9,
          95.7,
          276.9,
          217.7,
          7.3,
          262.7,
          222.4,
          109.8,
          184.9,
          97.2,
          70.6,
          198.9,
          43.1,
          67.8,
          280.2,
          225.8,
          293.6,
          38.2,
          36.9,
          220.5,
          218.4,
          129.4,
          175.1,
          123.1,
          134.3,
          66.9,
          94.2,
          193.2,
          136.2,
          120.5,
          287.6,
          239.9,
          75.1,
          147.3,
          265.6,
          69.2,
          232.1,
          8.7,
          170.2,
          78.2,
          210.7,
          262.9,
          228,
          276.7,
          75.5,
          125.7,
          56.2,
          16.9,
          177,
          140.3,
          131.7,
          253.8,
          265.2,
          139.3,
          17.2,
          19.4,
          90.4,
          241.7,
          206.9,
          25.1,
          110.7,
          250.9,
          210.8,
          239.8,
          266.9,
          96.2,
          80.2,
          172.5,
          76.3,
          290.7,
          89.7,
          75.3,
          139.2,
          28.6,
          88.3,
          238.2,
          286,
          205,
          62.3,
          234.5,
          280.7,
          7.8,
          76.4,
          224,
          206.8,
          227.2,
          166.8,
          163.3,
          187.8,
          137.9,
          116,
          193.7,
          296.4,
          27.5,
          109.8,
          171.3,
          19.6,
          141.3,
          273.7,
          165.6
         ],
         "y": [
          9.7,
          11.7,
          18.9,
          11.6,
          13.2,
          10.4,
          21.7,
          15.3,
          11.8,
          13.2,
          8.6,
          11.6,
          24.2,
          7,
          14.1,
          13.6,
          15.9,
          18,
          10.8,
          19,
          15,
          10.5,
          5.7,
          14.7,
          17.4,
          10.3,
          24.7,
          9.7,
          25.5,
          9.5,
          18.3,
          11.7,
          8.1,
          6.7,
          16.6,
          19.7,
          5.6,
          9.6,
          15.7,
          7.3,
          8.4,
          12.2,
          22.3,
          18.5,
          22.6,
          8,
          9.5,
          27,
          19.4,
          5.5,
          20.2,
          11.5,
          12.4,
          15.5,
          9.6,
          10.5,
          23.7,
          10.1,
          12.5,
          14.8,
          13.4,
          20.7,
          7.6,
          10.8,
          20.1,
          18,
          11,
          14.9,
          15.2,
          11.2,
          9.7,
          9.7,
          15.2,
          13.2,
          14.2,
          26.2,
          23.2,
          12.6,
          14.6,
          17.4,
          11.3,
          13.4,
          7.2,
          11.7,
          14.6,
          18.4,
          12,
          21.5,
          11.8,
          9.9,
          15.9,
          8.7,
          8.7,
          17.1,
          10.3,
          12.9,
          17.6,
          12.7,
          13.4,
          9.3,
          6.6,
          8.7,
          21.8,
          12.9,
          8.5,
          16,
          22.2,
          23.8,
          12.3,
          25.4,
          11.4,
          8.8,
          14.4,
          12,
          12.8,
          10.6,
          11.3,
          12.2,
          7.3,
          12.9,
          20.7,
          15.9,
          22.6,
          9.7,
          11.9,
          16.1,
          6.6,
          9.4,
          11.6,
          12.2,
          14.8,
          19.6,
          16.9,
          15.6,
          19.2,
          11,
          19.2,
          23.8,
          6.9,
          16.7,
          19,
          7.6,
          15.5,
          20.8,
          12.6
         ]
        },
        {
         "mode": "lines",
         "name": "Linear Regression",
         "type": "scatter",
         "x": [
          97.5,
          168.4,
          237.4,
          121,
          120.2,
          44.5,
          213.5,
          93.9,
          76.4,
          240.1,
          66.1,
          48.3,
          261.3,
          18.8,
          175.7,
          68.4,
          209.6,
          163.5,
          39.5,
          204.1,
          284.3,
          156.6,
          8.4,
          74.7,
          214.7,
          139.5,
          220.3,
          59.6,
          283.6,
          31.5,
          199.1,
          222.4,
          53.5,
          18.7,
          197.6,
          229.5,
          13.2,
          43,
          239.3,
          11.7,
          50,
          218.5,
          216.8,
          151.5,
          216.4,
          17.9,
          95.7,
          276.9,
          217.7,
          7.3,
          262.7,
          222.4,
          109.8,
          184.9,
          97.2,
          70.6,
          198.9,
          43.1,
          67.8,
          280.2,
          225.8,
          293.6,
          38.2,
          36.9,
          220.5,
          218.4,
          129.4,
          175.1,
          123.1,
          134.3,
          66.9,
          94.2,
          193.2,
          136.2,
          120.5,
          287.6,
          239.9,
          75.1,
          147.3,
          265.6,
          69.2,
          232.1,
          8.7,
          170.2,
          78.2,
          210.7,
          262.9,
          228,
          276.7,
          75.5,
          125.7,
          56.2,
          16.9,
          177,
          140.3,
          131.7,
          253.8,
          265.2,
          139.3,
          17.2,
          19.4,
          90.4,
          241.7,
          206.9,
          25.1,
          110.7,
          250.9,
          210.8,
          239.8,
          266.9,
          96.2,
          80.2,
          172.5,
          76.3,
          290.7,
          89.7,
          75.3,
          139.2,
          28.6,
          88.3,
          238.2,
          286,
          205,
          62.3,
          234.5,
          280.7,
          7.8,
          76.4,
          224,
          206.8,
          227.2,
          166.8,
          163.3,
          187.8,
          137.9,
          116,
          193.7,
          296.4,
          27.5,
          109.8,
          171.3,
          19.6,
          141.3,
          273.7,
          165.6
         ],
         "y": [
          14.265979381443302,
          14.265979381443302,
          14.265979381443302,
          14.265979381443302,
          14.265979381443302,
          14.265979381443302,
          14.265979381443302,
          14.265979381443302,
          14.265979381443302,
          14.265979381443302,
          14.265979381443302,
          14.265979381443302,
          14.265979381443302,
          14.265979381443302,
          14.265979381443302,
          14.265979381443302,
          14.265979381443302,
          14.265979381443302,
          14.265979381443302,
          14.265979381443302,
          14.265979381443302,
          14.265979381443302,
          14.265979381443302,
          14.265979381443302,
          14.265979381443302,
          14.265979381443302,
          14.265979381443302,
          14.265979381443302,
          14.265979381443302,
          14.265979381443302,
          14.265979381443302,
          14.265979381443302,
          14.265979381443302,
          14.265979381443302,
          14.265979381443302,
          14.265979381443302,
          14.265979381443302,
          14.265979381443302,
          14.265979381443302,
          14.265979381443302,
          14.265979381443302,
          14.265979381443302,
          14.265979381443302,
          14.265979381443302,
          14.265979381443302,
          14.265979381443302,
          14.265979381443302,
          14.265979381443302,
          14.265979381443302,
          14.265979381443302,
          14.265979381443302,
          14.265979381443302,
          14.265979381443302,
          14.265979381443302,
          14.265979381443302,
          14.265979381443302,
          14.265979381443302,
          14.265979381443302,
          14.265979381443302,
          14.265979381443302,
          14.265979381443302,
          14.265979381443302,
          14.265979381443302,
          14.265979381443302,
          14.265979381443302,
          14.265979381443302,
          14.265979381443302,
          14.265979381443302,
          14.265979381443302,
          14.265979381443302,
          14.265979381443302,
          14.265979381443302,
          14.265979381443302,
          14.265979381443302,
          14.265979381443302,
          14.265979381443302,
          14.265979381443302,
          14.265979381443302,
          14.265979381443302,
          14.265979381443302,
          14.265979381443302,
          14.265979381443302,
          14.265979381443302,
          14.265979381443302,
          14.265979381443302,
          14.265979381443302,
          14.265979381443302,
          14.265979381443302,
          14.265979381443302,
          14.265979381443302,
          14.265979381443302,
          14.265979381443302,
          14.265979381443302,
          14.265979381443302,
          14.265979381443302,
          14.265979381443302,
          14.265979381443302,
          14.265979381443302,
          14.265979381443302,
          14.265979381443302,
          14.265979381443302,
          14.265979381443302,
          14.265979381443302,
          14.265979381443302,
          14.265979381443302,
          14.265979381443302,
          14.265979381443302,
          14.265979381443302,
          14.265979381443302,
          14.265979381443302,
          14.265979381443302,
          14.265979381443302,
          14.265979381443302,
          14.265979381443302,
          14.265979381443302,
          14.265979381443302,
          14.265979381443302,
          14.265979381443302,
          14.265979381443302,
          14.265979381443302,
          14.265979381443302,
          14.265979381443302,
          14.265979381443302,
          14.265979381443302,
          14.265979381443302,
          14.265979381443302,
          14.265979381443302,
          14.265979381443302,
          14.265979381443302,
          14.265979381443302,
          14.265979381443302,
          14.265979381443302,
          14.265979381443302,
          14.265979381443302,
          14.265979381443302,
          14.265979381443302,
          14.265979381443302,
          14.265979381443302,
          14.265979381443302,
          14.265979381443302,
          14.265979381443302,
          14.265979381443302,
          14.265979381443302,
          14.265979381443302,
          14.265979381443302
         ]
        }
       ],
       "layout": {
        "template": {
         "data": {
          "bar": [
           {
            "error_x": {
             "color": "#2a3f5f"
            },
            "error_y": {
             "color": "#2a3f5f"
            },
            "marker": {
             "line": {
              "color": "#E5ECF6",
              "width": 0.5
             },
             "pattern": {
              "fillmode": "overlay",
              "size": 10,
              "solidity": 0.2
             }
            },
            "type": "bar"
           }
          ],
          "barpolar": [
           {
            "marker": {
             "line": {
              "color": "#E5ECF6",
              "width": 0.5
             },
             "pattern": {
              "fillmode": "overlay",
              "size": 10,
              "solidity": 0.2
             }
            },
            "type": "barpolar"
           }
          ],
          "carpet": [
           {
            "aaxis": {
             "endlinecolor": "#2a3f5f",
             "gridcolor": "white",
             "linecolor": "white",
             "minorgridcolor": "white",
             "startlinecolor": "#2a3f5f"
            },
            "baxis": {
             "endlinecolor": "#2a3f5f",
             "gridcolor": "white",
             "linecolor": "white",
             "minorgridcolor": "white",
             "startlinecolor": "#2a3f5f"
            },
            "type": "carpet"
           }
          ],
          "choropleth": [
           {
            "colorbar": {
             "outlinewidth": 0,
             "ticks": ""
            },
            "type": "choropleth"
           }
          ],
          "contour": [
           {
            "colorbar": {
             "outlinewidth": 0,
             "ticks": ""
            },
            "colorscale": [
             [
              0,
              "#0d0887"
             ],
             [
              0.1111111111111111,
              "#46039f"
             ],
             [
              0.2222222222222222,
              "#7201a8"
             ],
             [
              0.3333333333333333,
              "#9c179e"
             ],
             [
              0.4444444444444444,
              "#bd3786"
             ],
             [
              0.5555555555555556,
              "#d8576b"
             ],
             [
              0.6666666666666666,
              "#ed7953"
             ],
             [
              0.7777777777777778,
              "#fb9f3a"
             ],
             [
              0.8888888888888888,
              "#fdca26"
             ],
             [
              1,
              "#f0f921"
             ]
            ],
            "type": "contour"
           }
          ],
          "contourcarpet": [
           {
            "colorbar": {
             "outlinewidth": 0,
             "ticks": ""
            },
            "type": "contourcarpet"
           }
          ],
          "heatmap": [
           {
            "colorbar": {
             "outlinewidth": 0,
             "ticks": ""
            },
            "colorscale": [
             [
              0,
              "#0d0887"
             ],
             [
              0.1111111111111111,
              "#46039f"
             ],
             [
              0.2222222222222222,
              "#7201a8"
             ],
             [
              0.3333333333333333,
              "#9c179e"
             ],
             [
              0.4444444444444444,
              "#bd3786"
             ],
             [
              0.5555555555555556,
              "#d8576b"
             ],
             [
              0.6666666666666666,
              "#ed7953"
             ],
             [
              0.7777777777777778,
              "#fb9f3a"
             ],
             [
              0.8888888888888888,
              "#fdca26"
             ],
             [
              1,
              "#f0f921"
             ]
            ],
            "type": "heatmap"
           }
          ],
          "heatmapgl": [
           {
            "colorbar": {
             "outlinewidth": 0,
             "ticks": ""
            },
            "colorscale": [
             [
              0,
              "#0d0887"
             ],
             [
              0.1111111111111111,
              "#46039f"
             ],
             [
              0.2222222222222222,
              "#7201a8"
             ],
             [
              0.3333333333333333,
              "#9c179e"
             ],
             [
              0.4444444444444444,
              "#bd3786"
             ],
             [
              0.5555555555555556,
              "#d8576b"
             ],
             [
              0.6666666666666666,
              "#ed7953"
             ],
             [
              0.7777777777777778,
              "#fb9f3a"
             ],
             [
              0.8888888888888888,
              "#fdca26"
             ],
             [
              1,
              "#f0f921"
             ]
            ],
            "type": "heatmapgl"
           }
          ],
          "histogram": [
           {
            "marker": {
             "pattern": {
              "fillmode": "overlay",
              "size": 10,
              "solidity": 0.2
             }
            },
            "type": "histogram"
           }
          ],
          "histogram2d": [
           {
            "colorbar": {
             "outlinewidth": 0,
             "ticks": ""
            },
            "colorscale": [
             [
              0,
              "#0d0887"
             ],
             [
              0.1111111111111111,
              "#46039f"
             ],
             [
              0.2222222222222222,
              "#7201a8"
             ],
             [
              0.3333333333333333,
              "#9c179e"
             ],
             [
              0.4444444444444444,
              "#bd3786"
             ],
             [
              0.5555555555555556,
              "#d8576b"
             ],
             [
              0.6666666666666666,
              "#ed7953"
             ],
             [
              0.7777777777777778,
              "#fb9f3a"
             ],
             [
              0.8888888888888888,
              "#fdca26"
             ],
             [
              1,
              "#f0f921"
             ]
            ],
            "type": "histogram2d"
           }
          ],
          "histogram2dcontour": [
           {
            "colorbar": {
             "outlinewidth": 0,
             "ticks": ""
            },
            "colorscale": [
             [
              0,
              "#0d0887"
             ],
             [
              0.1111111111111111,
              "#46039f"
             ],
             [
              0.2222222222222222,
              "#7201a8"
             ],
             [
              0.3333333333333333,
              "#9c179e"
             ],
             [
              0.4444444444444444,
              "#bd3786"
             ],
             [
              0.5555555555555556,
              "#d8576b"
             ],
             [
              0.6666666666666666,
              "#ed7953"
             ],
             [
              0.7777777777777778,
              "#fb9f3a"
             ],
             [
              0.8888888888888888,
              "#fdca26"
             ],
             [
              1,
              "#f0f921"
             ]
            ],
            "type": "histogram2dcontour"
           }
          ],
          "mesh3d": [
           {
            "colorbar": {
             "outlinewidth": 0,
             "ticks": ""
            },
            "type": "mesh3d"
           }
          ],
          "parcoords": [
           {
            "line": {
             "colorbar": {
              "outlinewidth": 0,
              "ticks": ""
             }
            },
            "type": "parcoords"
           }
          ],
          "pie": [
           {
            "automargin": true,
            "type": "pie"
           }
          ],
          "scatter": [
           {
            "fillpattern": {
             "fillmode": "overlay",
             "size": 10,
             "solidity": 0.2
            },
            "type": "scatter"
           }
          ],
          "scatter3d": [
           {
            "line": {
             "colorbar": {
              "outlinewidth": 0,
              "ticks": ""
             }
            },
            "marker": {
             "colorbar": {
              "outlinewidth": 0,
              "ticks": ""
             }
            },
            "type": "scatter3d"
           }
          ],
          "scattercarpet": [
           {
            "marker": {
             "colorbar": {
              "outlinewidth": 0,
              "ticks": ""
             }
            },
            "type": "scattercarpet"
           }
          ],
          "scattergeo": [
           {
            "marker": {
             "colorbar": {
              "outlinewidth": 0,
              "ticks": ""
             }
            },
            "type": "scattergeo"
           }
          ],
          "scattergl": [
           {
            "marker": {
             "colorbar": {
              "outlinewidth": 0,
              "ticks": ""
             }
            },
            "type": "scattergl"
           }
          ],
          "scattermapbox": [
           {
            "marker": {
             "colorbar": {
              "outlinewidth": 0,
              "ticks": ""
             }
            },
            "type": "scattermapbox"
           }
          ],
          "scatterpolar": [
           {
            "marker": {
             "colorbar": {
              "outlinewidth": 0,
              "ticks": ""
             }
            },
            "type": "scatterpolar"
           }
          ],
          "scatterpolargl": [
           {
            "marker": {
             "colorbar": {
              "outlinewidth": 0,
              "ticks": ""
             }
            },
            "type": "scatterpolargl"
           }
          ],
          "scatterternary": [
           {
            "marker": {
             "colorbar": {
              "outlinewidth": 0,
              "ticks": ""
             }
            },
            "type": "scatterternary"
           }
          ],
          "surface": [
           {
            "colorbar": {
             "outlinewidth": 0,
             "ticks": ""
            },
            "colorscale": [
             [
              0,
              "#0d0887"
             ],
             [
              0.1111111111111111,
              "#46039f"
             ],
             [
              0.2222222222222222,
              "#7201a8"
             ],
             [
              0.3333333333333333,
              "#9c179e"
             ],
             [
              0.4444444444444444,
              "#bd3786"
             ],
             [
              0.5555555555555556,
              "#d8576b"
             ],
             [
              0.6666666666666666,
              "#ed7953"
             ],
             [
              0.7777777777777778,
              "#fb9f3a"
             ],
             [
              0.8888888888888888,
              "#fdca26"
             ],
             [
              1,
              "#f0f921"
             ]
            ],
            "type": "surface"
           }
          ],
          "table": [
           {
            "cells": {
             "fill": {
              "color": "#EBF0F8"
             },
             "line": {
              "color": "white"
             }
            },
            "header": {
             "fill": {
              "color": "#C8D4E3"
             },
             "line": {
              "color": "white"
             }
            },
            "type": "table"
           }
          ]
         },
         "layout": {
          "annotationdefaults": {
           "arrowcolor": "#2a3f5f",
           "arrowhead": 0,
           "arrowwidth": 1
          },
          "autotypenumbers": "strict",
          "coloraxis": {
           "colorbar": {
            "outlinewidth": 0,
            "ticks": ""
           }
          },
          "colorscale": {
           "diverging": [
            [
             0,
             "#8e0152"
            ],
            [
             0.1,
             "#c51b7d"
            ],
            [
             0.2,
             "#de77ae"
            ],
            [
             0.3,
             "#f1b6da"
            ],
            [
             0.4,
             "#fde0ef"
            ],
            [
             0.5,
             "#f7f7f7"
            ],
            [
             0.6,
             "#e6f5d0"
            ],
            [
             0.7,
             "#b8e186"
            ],
            [
             0.8,
             "#7fbc41"
            ],
            [
             0.9,
             "#4d9221"
            ],
            [
             1,
             "#276419"
            ]
           ],
           "sequential": [
            [
             0,
             "#0d0887"
            ],
            [
             0.1111111111111111,
             "#46039f"
            ],
            [
             0.2222222222222222,
             "#7201a8"
            ],
            [
             0.3333333333333333,
             "#9c179e"
            ],
            [
             0.4444444444444444,
             "#bd3786"
            ],
            [
             0.5555555555555556,
             "#d8576b"
            ],
            [
             0.6666666666666666,
             "#ed7953"
            ],
            [
             0.7777777777777778,
             "#fb9f3a"
            ],
            [
             0.8888888888888888,
             "#fdca26"
            ],
            [
             1,
             "#f0f921"
            ]
           ],
           "sequentialminus": [
            [
             0,
             "#0d0887"
            ],
            [
             0.1111111111111111,
             "#46039f"
            ],
            [
             0.2222222222222222,
             "#7201a8"
            ],
            [
             0.3333333333333333,
             "#9c179e"
            ],
            [
             0.4444444444444444,
             "#bd3786"
            ],
            [
             0.5555555555555556,
             "#d8576b"
            ],
            [
             0.6666666666666666,
             "#ed7953"
            ],
            [
             0.7777777777777778,
             "#fb9f3a"
            ],
            [
             0.8888888888888888,
             "#fdca26"
            ],
            [
             1,
             "#f0f921"
            ]
           ]
          },
          "colorway": [
           "#636efa",
           "#EF553B",
           "#00cc96",
           "#ab63fa",
           "#FFA15A",
           "#19d3f3",
           "#FF6692",
           "#B6E880",
           "#FF97FF",
           "#FECB52"
          ],
          "font": {
           "color": "#2a3f5f"
          },
          "geo": {
           "bgcolor": "white",
           "lakecolor": "white",
           "landcolor": "#E5ECF6",
           "showlakes": true,
           "showland": true,
           "subunitcolor": "white"
          },
          "hoverlabel": {
           "align": "left"
          },
          "hovermode": "closest",
          "mapbox": {
           "style": "light"
          },
          "paper_bgcolor": "white",
          "plot_bgcolor": "#E5ECF6",
          "polar": {
           "angularaxis": {
            "gridcolor": "white",
            "linecolor": "white",
            "ticks": ""
           },
           "bgcolor": "#E5ECF6",
           "radialaxis": {
            "gridcolor": "white",
            "linecolor": "white",
            "ticks": ""
           }
          },
          "scene": {
           "xaxis": {
            "backgroundcolor": "#E5ECF6",
            "gridcolor": "white",
            "gridwidth": 2,
            "linecolor": "white",
            "showbackground": true,
            "ticks": "",
            "zerolinecolor": "white"
           },
           "yaxis": {
            "backgroundcolor": "#E5ECF6",
            "gridcolor": "white",
            "gridwidth": 2,
            "linecolor": "white",
            "showbackground": true,
            "ticks": "",
            "zerolinecolor": "white"
           },
           "zaxis": {
            "backgroundcolor": "#E5ECF6",
            "gridcolor": "white",
            "gridwidth": 2,
            "linecolor": "white",
            "showbackground": true,
            "ticks": "",
            "zerolinecolor": "white"
           }
          },
          "shapedefaults": {
           "line": {
            "color": "#2a3f5f"
           }
          },
          "ternary": {
           "aaxis": {
            "gridcolor": "white",
            "linecolor": "white",
            "ticks": ""
           },
           "baxis": {
            "gridcolor": "white",
            "linecolor": "white",
            "ticks": ""
           },
           "bgcolor": "#E5ECF6",
           "caxis": {
            "gridcolor": "white",
            "linecolor": "white",
            "ticks": ""
           }
          },
          "title": {
           "x": 0.05
          },
          "xaxis": {
           "automargin": true,
           "gridcolor": "white",
           "linecolor": "white",
           "ticks": "",
           "title": {
            "standoff": 15
           },
           "zerolinecolor": "white",
           "zerolinewidth": 2
          },
          "yaxis": {
           "automargin": true,
           "gridcolor": "white",
           "linecolor": "white",
           "ticks": "",
           "title": {
            "standoff": 15
           },
           "zerolinecolor": "white",
           "zerolinewidth": 2
          }
         }
        },
        "xaxis": {
         "title": {
          "text": "TV (Ad Spending)"
         }
        },
        "yaxis": {
         "title": {
          "text": "Sales"
         }
        }
       }
      }
     },
     "metadata": {},
     "output_type": "display_data"
    }
   ],
   "source": [
    "fig = go.Figure()\n",
    "fig.add_trace(go.Scatter(x = X_train, y = y_train, mode = 'markers', name = 'Data Point'))\n",
    "fig.add_trace(go.Scatter(x = X_train, y = y.mean() + 0 * X_train, mode = 'lines', name = 'Linear Regression'))\n",
    "fig.update_layout(\n",
    " xaxis_title=\"TV (Ad Spending)\",\n",
    " yaxis_title=\"Sales\"\n",
    ")"
   ]
  },
  {
   "cell_type": "code",
   "execution_count": 13,
   "id": "13b379a2-847f-49dc-bf35-fbfd346d12ff",
   "metadata": {
    "id": "13b379a2-847f-49dc-bf35-fbfd346d12ff"
   },
   "outputs": [
    {
     "name": "stdout",
     "output_type": "stream",
     "text": [
      "SSE = 3711.5377202678287, 3.711538e+03\n"
     ]
    }
   ],
   "source": [
    "SSE = np.sum((y_train - y.mean()) ** 2)\n",
    "\n",
    "scientific_notation = \"{:e}\".format(SSE)\n",
    "print(f\"SSE = {SSE}, {scientific_notation}\")"
   ]
  },
  {
   "cell_type": "markdown",
   "id": "c81e7269-2381-4e74-9b7e-3f72652d679f",
   "metadata": {
    "id": "c81e7269-2381-4e74-9b7e-3f72652d679f"
   },
   "source": [
    "<h3>Create function <code>gradient_descent()</code> for approximate parameters {Intercept, Slope} use</h3>\n",
    "<h2>$$intercept_{new}=intercept_{old}-({\\frac{\\partial{SSE}}{\\partial{intercept}}}\\alpha)$$</h2>\n",
    "<h2>$$slope_{new}=slope_{old}-({\\frac{\\partial{SSE}}{\\partial{slope}}}\\alpha)$$</h2>\n",
    "<h3>where $$ \\alpha = Learning Rate$$</h3>"
   ]
  },
  {
   "cell_type": "code",
   "execution_count": 14,
   "id": "0c03ded4-cdf3-45ca-a8dc-18d4aaef7630",
   "metadata": {
    "id": "0c03ded4-cdf3-45ca-a8dc-18d4aaef7630"
   },
   "outputs": [],
   "source": [
    "def gradeint_descent(X, y, learning_rate, iteration, round_epochs):\n",
    "    intercept = 0\n",
    "    slope = 0\n",
    "    sse_list = []\n",
    "    with tqdm(total = iteration) as pbar:\n",
    "        for i in range(iteration):\n",
    "            sse = np.sum((y - intercept - slope * X) ** 2)\n",
    "            diff_sse_intercept = np.sum(-2 * (y - intercept - slope * X))\n",
    "            diff_sse_slope = np.sum(-2 * (y - intercept - slope * X) * X)\n",
    "\n",
    "            step_size_intercept = diff_sse_intercept * learning_rate\n",
    "            step_size_slope = diff_sse_slope * learning_rate\n",
    "\n",
    "            intercept = intercept - step_size_intercept\n",
    "            slope = slope - step_size_slope\n",
    "\n",
    "            sse_list.append(sse)\n",
    "\n",
    "            if (i + 1) % round_epochs == 0:\n",
    "                pbar.set_description(f'Iterate: {i + 1}, SSE: {sse}')\n",
    "                pbar.update(round_epochs)\n",
    "    return intercept, slope, sse_list"
   ]
  },
  {
   "cell_type": "markdown",
   "id": "fa3ec3f5-94a9-4058-87fa-925fd9dc8143",
   "metadata": {
    "id": "fa3ec3f5-94a9-4058-87fa-925fd9dc8143"
   },
   "source": [
    "<h3>Approximation Parameter Values (Training)</h3>"
   ]
  },
  {
   "cell_type": "code",
   "execution_count": 15,
   "id": "ae545e6b-9e4d-49f2-b890-4ae585e70afa",
   "metadata": {
    "id": "ae545e6b-9e4d-49f2-b890-4ae585e70afa"
   },
   "outputs": [
    {
     "name": "stderr",
     "output_type": "stream",
     "text": [
      "Iterate: 1000000, SSE: 1587.5295553566953: 100%|██████████| 1000000/1000000 [00:25<00:00, 39216.53it/s]\n"
     ]
    },
    {
     "name": "stdout",
     "output_type": "stream",
     "text": [
      "Intercept = 7.437599674077778, slope = 0.04469388760847014, \n",
      "Maximum of SSE = 32460.809999999998 \n",
      "Minimum of SSE = 1587.5295553566953\n"
     ]
    },
    {
     "data": {
      "image/png": "[encoded data removed]",
      "text/plain": [
       "<Figure size 640x480 with 1 Axes>"
      ]
     },
     "metadata": {},
     "output_type": "display_data"
    }
   ],
   "source": [
    "iteration = 1000000 # 1M\n",
    "learn_rate = 1e-7 # 0.0000001\n",
    "intercept, slope, sse_list = gradeint_descent(X_train, y_train, learn_rate, iteration, 10000)\n",
    "print(f\"Intercept = {intercept}, slope = {slope}, \\nMaximum of SSE = {sse_list[0]} \\nMinimum of SSE = {sse_list[-1]}\")\n",
    "\n",
    "rng = np.arange(iteration)\n",
    "plt.plot(sse_list, rng)\n",
    "plt.show()"
   ]
  },
  {
   "cell_type": "markdown",
   "id": "0bca6b0a-ebe9-449e-a315-94887ba68ef8",
   "metadata": {
    "id": "0bca6b0a-ebe9-449e-a315-94887ba68ef8"
   },
   "source": [
    "<h3>Scatter Plot with Regression Line</h3>"
   ]
  },
  {
   "cell_type": "code",
   "execution_count": 16,
   "id": "15bdfe1f-9549-401f-b820-337b91eaaa6f",
   "metadata": {
    "id": "15bdfe1f-9549-401f-b820-337b91eaaa6f"
   },
   "outputs": [
    {
     "data": {
      "application/vnd.plotly.v1+json": {
       "config": {
        "plotlyServerURL": "https://plot.ly"
       },
       "data": [
        {
         "mode": "markers",
         "name": "Data Point",
         "type": "scatter",
         "x": [
          97.5,
          168.4,
          237.4,
          121,
          120.2,
          44.5,
          213.5,
          93.9,
          76.4,
          240.1,
          66.1,
          48.3,
          261.3,
          18.8,
          175.7,
          68.4,
          209.6,
          163.5,
          39.5,
          204.1,
          284.3,
          156.6,
          8.4,
          74.7,
          214.7,
          139.5,
          220.3,
          59.6,
          283.6,
          31.5,
          199.1,
          222.4,
          53.5,
          18.7,
          197.6,
          229.5,
          13.2,
          43,
          239.3,
          11.7,
          50,
          218.5,
          216.8,
          151.5,
          216.4,
          17.9,
          95.7,
          276.9,
          217.7,
          7.3,
          262.7,
          222.4,
          109.8,
          184.9,
          97.2,
          70.6,
          198.9,
          43.1,
          67.8,
          280.2,
          225.8,
          293.6,
          38.2,
          36.9,
          220.5,
          218.4,
          129.4,
          175.1,
          123.1,
          134.3,
          66.9,
          94.2,
          193.2,
          136.2,
          120.5,
          287.6,
          239.9,
          75.1,
          147.3,
          265.6,
          69.2,
          232.1,
          8.7,
          170.2,
          78.2,
          210.7,
          262.9,
          228,
          276.7,
          75.5,
          125.7,
          56.2,
          16.9,
          177,
          140.3,
          131.7,
          253.8,
          265.2,
          139.3,
          17.2,
          19.4,
          90.4,
          241.7,
          206.9,
          25.1,
          110.7,
          250.9,
          210.8,
          239.8,
          266.9,
          96.2,
          80.2,
          172.5,
          76.3,
          290.7,
          89.7,
          75.3,
          139.2,
          28.6,
          88.3,
          238.2,
          286,
          205,
          62.3,
          234.5,
          280.7,
          7.8,
          76.4,
          224,
          206.8,
          227.2,
          166.8,
          163.3,
          187.8,
          137.9,
          116,
          193.7,
          296.4,
          27.5,
          109.8,
          171.3,
          19.6,
          141.3,
          273.7,
          165.6
         ],
         "y": [
          9.7,
          11.7,
          18.9,
          11.6,
          13.2,
          10.4,
          21.7,
          15.3,
          11.8,
          13.2,
          8.6,
          11.6,
          24.2,
          7,
          14.1,
          13.6,
          15.9,
          18,
          10.8,
          19,
          15,
          10.5,
          5.7,
          14.7,
          17.4,
          10.3,
          24.7,
          9.7,
          25.5,
          9.5,
          18.3,
          11.7,
          8.1,
          6.7,
          16.6,
          19.7,
          5.6,
          9.6,
          15.7,
          7.3,
          8.4,
          12.2,
          22.3,
          18.5,
          22.6,
          8,
          9.5,
          27,
          19.4,
          5.5,
          20.2,
          11.5,
          12.4,
          15.5,
          9.6,
          10.5,
          23.7,
          10.1,
          12.5,
          14.8,
          13.4,
          20.7,
          7.6,
          10.8,
          20.1,
          18,
          11,
          14.9,
          15.2,
          11.2,
          9.7,
          9.7,
          15.2,
          13.2,
          14.2,
          26.2,
          23.2,
          12.6,
          14.6,
          17.4,
          11.3,
          13.4,
          7.2,
          11.7,
          14.6,
          18.4,
          12,
          21.5,
          11.8,
          9.9,
          15.9,
          8.7,
          8.7,
          17.1,
          10.3,
          12.9,
          17.6,
          12.7,
          13.4,
          9.3,
          6.6,
          8.7,
          21.8,
          12.9,
          8.5,
          16,
          22.2,
          23.8,
          12.3,
          25.4,
          11.4,
          8.8,
          14.4,
          12,
          12.8,
          10.6,
          11.3,
          12.2,
          7.3,
          12.9,
          20.7,
          15.9,
          22.6,
          9.7,
          11.9,
          16.1,
          6.6,
          9.4,
          11.6,
          12.2,
          14.8,
          19.6,
          16.9,
          15.6,
          19.2,
          11,
          19.2,
          23.8,
          6.9,
          16.7,
          19,
          7.6,
          15.5,
          20.8,
          12.6
         ]
        },
        {
         "mode": "lines",
         "name": "Linear Regression",
         "type": "scatter",
         "x": [
          97.5,
          168.4,
          237.4,
          121,
          120.2,
          44.5,
          213.5,
          93.9,
          76.4,
          240.1,
          66.1,
          48.3,
          261.3,
          18.8,
          175.7,
          68.4,
          209.6,
          163.5,
          39.5,
          204.1,
          284.3,
          156.6,
          8.4,
          74.7,
          214.7,
          139.5,
          220.3,
          59.6,
          283.6,
          31.5,
          199.1,
          222.4,
          53.5,
          18.7,
          197.6,
          229.5,
          13.2,
          43,
          239.3,
          11.7,
          50,
          218.5,
          216.8,
          151.5,
          216.4,
          17.9,
          95.7,
          276.9,
          217.7,
          7.3,
          262.7,
          222.4,
          109.8,
          184.9,
          97.2,
          70.6,
          198.9,
          43.1,
          67.8,
          280.2,
          225.8,
          293.6,
          38.2,
          36.9,
          220.5,
          218.4,
          129.4,
          175.1,
          123.1,
          134.3,
          66.9,
          94.2,
          193.2,
          136.2,
          120.5,
          287.6,
          239.9,
          75.1,
          147.3,
          265.6,
          69.2,
          232.1,
          8.7,
          170.2,
          78.2,
          210.7,
          262.9,
          228,
          276.7,
          75.5,
          125.7,
          56.2,
          16.9,
          177,
          140.3,
          131.7,
          253.8,
          265.2,
          139.3,
          17.2,
          19.4,
          90.4,
          241.7,
          206.9,
          25.1,
          110.7,
          250.9,
          210.8,
          239.8,
          266.9,
          96.2,
          80.2,
          172.5,
          76.3,
          290.7,
          89.7,
          75.3,
          139.2,
          28.6,
          88.3,
          238.2,
          286,
          205,
          62.3,
          234.5,
          280.7,
          7.8,
          76.4,
          224,
          206.8,
          227.2,
          166.8,
          163.3,
          187.8,
          137.9,
          116,
          193.7,
          296.4,
          27.5,
          109.8,
          171.3,
          19.6,
          141.3,
          273.7,
          165.6
         ],
         "y": [
          11.795253715903616,
          14.964050347344148,
          18.04792859232859,
          12.845560074702664,
          12.80980496461589,
          9.426477672654698,
          16.979744678486153,
          11.634355720513124,
          10.852212687364897,
          18.16860208887146,
          10.391865644997655,
          9.596314445566886,
          19.116112506171024,
          8.277844761117017,
          15.29031572688598,
          10.494661586497136,
          16.80543851681312,
          14.745050298062646,
          9.203008234612348,
          16.55962213496653,
          20.14407192116584,
          14.436662473564201,
          7.813028329988927,
          10.776233078430497,
          17.033377343616316,
          13.672396995459362,
          17.28366311422375,
          10.101355375542598,
          20.11278619983991,
          8.845457133744588,
          16.33615269692418,
          17.377520278201537,
          9.82872266113093,
          8.27337537235617,
          16.269111865511476,
          17.694846880221675,
          8.027558990509585,
          9.359436841241994,
          18.13284697878468,
          7.960518159096878,
          9.672294054501284,
          17.203214116528503,
          17.127234507594103,
          14.208723646761005,
          17.109356952550716,
          8.237620262269393,
          11.71480471820837,
          19.81333715286316,
          17.167459006441728,
          7.76386505361961,
          19.178683948822883,
          17.377520278201537,
          12.344988533487799,
          15.701499492883908,
          11.781845549621075,
          10.59298813923577,
          16.32721391940249,
          9.363906230002842,
          10.467845253932053,
          19.96082698197111,
          17.529479496070337,
          20.55972507592461,
          9.144906180721337,
          9.086804126830327,
          17.292601891745445,
          17.198744727767657,
          13.220988730613815,
          15.263499394320899,
          12.939417238680452,
          13.439988779895318,
          10.42762075508443,
          11.647763886795666,
          16.07245876003421,
          13.524907166351412,
          12.82321313089843,
          20.29156175027379,
          18.159663311349764,
          10.794110633473885,
          14.02100931880543,
          19.308296222887446,
          10.530416696583911,
          17.811050988003696,
          7.8264364962714685,
          15.044499345039394,
          10.932661685060143,
          16.854601793182436,
          19.187622726344575,
          17.62780604880897,
          19.804398375341464,
          10.811988188517272,
          13.055621346462473,
          9.9493961576738,
          8.192926374660923,
          15.348417780776991,
          13.708152105546139,
          13.323784672113295,
          18.7809083491075,
          19.290418667844058,
          13.66345821793767,
          8.206334540943464,
          8.304661093682098,
          11.477927113883478,
          18.24011230904501,
          16.684765020270248,
          8.55941625305038,
          12.385213032335422,
          18.651296075042936,
          16.859071181943282,
          18.155193922588918,
          19.366398276778458,
          11.737151662012606,
          11.022049460277083,
          15.147295286538878,
          10.84774329860405,
          20.430112801860048,
          11.446641392557549,
          10.80304941099558,
          13.65898882917682,
          8.715844859680024,
          11.38406994990569,
          18.083683702415364,
          20.22005153010024,
          16.599846633814156,
          10.222028872085467,
          17.918316318264026,
          19.983173925775343,
          7.7862119974238455,
          10.852212687364897,
          17.449030498375087,
          16.680295631509402,
          17.592050938722192,
          14.892540127170598,
          14.736111520540952,
          15.83111176694847,
          13.600886775285812,
          12.622090636660314,
          16.094805703838443,
          20.684867961228324,
          8.666681583310707,
          12.344988533487799,
          15.093662621408713,
          8.313599871203794,
          13.752845993154608,
          19.670316712516055,
          14.838907462040432
         ]
        }
       ],
       "layout": {
        "template": {
         "data": {
          "bar": [
           {
            "error_x": {
             "color": "#2a3f5f"
            },
            "error_y": {
             "color": "#2a3f5f"
            },
            "marker": {
             "line": {
              "color": "#E5ECF6",
              "width": 0.5
             },
             "pattern": {
              "fillmode": "overlay",
              "size": 10,
              "solidity": 0.2
             }
            },
            "type": "bar"
           }
          ],
          "barpolar": [
           {
            "marker": {
             "line": {
              "color": "#E5ECF6",
              "width": 0.5
             },
             "pattern": {
              "fillmode": "overlay",
              "size": 10,
              "solidity": 0.2
             }
            },
            "type": "barpolar"
           }
          ],
          "carpet": [
           {
            "aaxis": {
             "endlinecolor": "#2a3f5f",
             "gridcolor": "white",
             "linecolor": "white",
             "minorgridcolor": "white",
             "startlinecolor": "#2a3f5f"
            },
            "baxis": {
             "endlinecolor": "#2a3f5f",
             "gridcolor": "white",
             "linecolor": "white",
             "minorgridcolor": "white",
             "startlinecolor": "#2a3f5f"
            },
            "type": "carpet"
           }
          ],
          "choropleth": [
           {
            "colorbar": {
             "outlinewidth": 0,
             "ticks": ""
            },
            "type": "choropleth"
           }
          ],
          "contour": [
           {
            "colorbar": {
             "outlinewidth": 0,
             "ticks": ""
            },
            "colorscale": [
             [
              0,
              "#0d0887"
             ],
             [
              0.1111111111111111,
              "#46039f"
             ],
             [
              0.2222222222222222,
              "#7201a8"
             ],
             [
              0.3333333333333333,
              "#9c179e"
             ],
             [
              0.4444444444444444,
              "#bd3786"
             ],
             [
              0.5555555555555556,
              "#d8576b"
             ],
             [
              0.6666666666666666,
              "#ed7953"
             ],
             [
              0.7777777777777778,
              "#fb9f3a"
             ],
             [
              0.8888888888888888,
              "#fdca26"
             ],
             [
              1,
              "#f0f921"
             ]
            ],
            "type": "contour"
           }
          ],
          "contourcarpet": [
           {
            "colorbar": {
             "outlinewidth": 0,
             "ticks": ""
            },
            "type": "contourcarpet"
           }
          ],
          "heatmap": [
           {
            "colorbar": {
             "outlinewidth": 0,
             "ticks": ""
            },
            "colorscale": [
             [
              0,
              "#0d0887"
             ],
             [
              0.1111111111111111,
              "#46039f"
             ],
             [
              0.2222222222222222,
              "#7201a8"
             ],
             [
              0.3333333333333333,
              "#9c179e"
             ],
             [
              0.4444444444444444,
              "#bd3786"
             ],
             [
              0.5555555555555556,
              "#d8576b"
             ],
             [
              0.6666666666666666,
              "#ed7953"
             ],
             [
              0.7777777777777778,
              "#fb9f3a"
             ],
             [
              0.8888888888888888,
              "#fdca26"
             ],
             [
              1,
              "#f0f921"
             ]
            ],
            "type": "heatmap"
           }
          ],
          "heatmapgl": [
           {
            "colorbar": {
             "outlinewidth": 0,
             "ticks": ""
            },
            "colorscale": [
             [
              0,
              "#0d0887"
             ],
             [
              0.1111111111111111,
              "#46039f"
             ],
             [
              0.2222222222222222,
              "#7201a8"
             ],
             [
              0.3333333333333333,
              "#9c179e"
             ],
             [
              0.4444444444444444,
              "#bd3786"
             ],
             [
              0.5555555555555556,
              "#d8576b"
             ],
             [
              0.6666666666666666,
              "#ed7953"
             ],
             [
              0.7777777777777778,
              "#fb9f3a"
             ],
             [
              0.8888888888888888,
              "#fdca26"
             ],
             [
              1,
              "#f0f921"
             ]
            ],
            "type": "heatmapgl"
           }
          ],
          "histogram": [
           {
            "marker": {
             "pattern": {
              "fillmode": "overlay",
              "size": 10,
              "solidity": 0.2
             }
            },
            "type": "histogram"
           }
          ],
          "histogram2d": [
           {
            "colorbar": {
             "outlinewidth": 0,
             "ticks": ""
            },
            "colorscale": [
             [
              0,
              "#0d0887"
             ],
             [
              0.1111111111111111,
              "#46039f"
             ],
             [
              0.2222222222222222,
              "#7201a8"
             ],
             [
              0.3333333333333333,
              "#9c179e"
             ],
             [
              0.4444444444444444,
              "#bd3786"
             ],
             [
              0.5555555555555556,
              "#d8576b"
             ],
             [
              0.6666666666666666,
              "#ed7953"
             ],
             [
              0.7777777777777778,
              "#fb9f3a"
             ],
             [
              0.8888888888888888,
              "#fdca26"
             ],
             [
              1,
              "#f0f921"
             ]
            ],
            "type": "histogram2d"
           }
          ],
          "histogram2dcontour": [
           {
            "colorbar": {
             "outlinewidth": 0,
             "ticks": ""
            },
            "colorscale": [
             [
              0,
              "#0d0887"
             ],
             [
              0.1111111111111111,
              "#46039f"
             ],
             [
              0.2222222222222222,
              "#7201a8"
             ],
             [
              0.3333333333333333,
              "#9c179e"
             ],
             [
              0.4444444444444444,
              "#bd3786"
             ],
             [
              0.5555555555555556,
              "#d8576b"
             ],
             [
              0.6666666666666666,
              "#ed7953"
             ],
             [
              0.7777777777777778,
              "#fb9f3a"
             ],
             [
              0.8888888888888888,
              "#fdca26"
             ],
             [
              1,
              "#f0f921"
             ]
            ],
            "type": "histogram2dcontour"
           }
          ],
          "mesh3d": [
           {
            "colorbar": {
             "outlinewidth": 0,
             "ticks": ""
            },
            "type": "mesh3d"
           }
          ],
          "parcoords": [
           {
            "line": {
             "colorbar": {
              "outlinewidth": 0,
              "ticks": ""
             }
            },
            "type": "parcoords"
           }
          ],
          "pie": [
           {
            "automargin": true,
            "type": "pie"
           }
          ],
          "scatter": [
           {
            "fillpattern": {
             "fillmode": "overlay",
             "size": 10,
             "solidity": 0.2
            },
            "type": "scatter"
           }
          ],
          "scatter3d": [
           {
            "line": {
             "colorbar": {
              "outlinewidth": 0,
              "ticks": ""
             }
            },
            "marker": {
             "colorbar": {
              "outlinewidth": 0,
              "ticks": ""
             }
            },
            "type": "scatter3d"
           }
          ],
          "scattercarpet": [
           {
            "marker": {
             "colorbar": {
              "outlinewidth": 0,
              "ticks": ""
             }
            },
            "type": "scattercarpet"
           }
          ],
          "scattergeo": [
           {
            "marker": {
             "colorbar": {
              "outlinewidth": 0,
              "ticks": ""
             }
            },
            "type": "scattergeo"
           }
          ],
          "scattergl": [
           {
            "marker": {
             "colorbar": {
              "outlinewidth": 0,
              "ticks": ""
             }
            },
            "type": "scattergl"
           }
          ],
          "scattermapbox": [
           {
            "marker": {
             "colorbar": {
              "outlinewidth": 0,
              "ticks": ""
             }
            },
            "type": "scattermapbox"
           }
          ],
          "scatterpolar": [
           {
            "marker": {
             "colorbar": {
              "outlinewidth": 0,
              "ticks": ""
             }
            },
            "type": "scatterpolar"
           }
          ],
          "scatterpolargl": [
           {
            "marker": {
             "colorbar": {
              "outlinewidth": 0,
              "ticks": ""
             }
            },
            "type": "scatterpolargl"
           }
          ],
          "scatterternary": [
           {
            "marker": {
             "colorbar": {
              "outlinewidth": 0,
              "ticks": ""
             }
            },
            "type": "scatterternary"
           }
          ],
          "surface": [
           {
            "colorbar": {
             "outlinewidth": 0,
             "ticks": ""
            },
            "colorscale": [
             [
              0,
              "#0d0887"
             ],
             [
              0.1111111111111111,
              "#46039f"
             ],
             [
              0.2222222222222222,
              "#7201a8"
             ],
             [
              0.3333333333333333,
              "#9c179e"
             ],
             [
              0.4444444444444444,
              "#bd3786"
             ],
             [
              0.5555555555555556,
              "#d8576b"
             ],
             [
              0.6666666666666666,
              "#ed7953"
             ],
             [
              0.7777777777777778,
              "#fb9f3a"
             ],
             [
              0.8888888888888888,
              "#fdca26"
             ],
             [
              1,
              "#f0f921"
             ]
            ],
            "type": "surface"
           }
          ],
          "table": [
           {
            "cells": {
             "fill": {
              "color": "#EBF0F8"
             },
             "line": {
              "color": "white"
             }
            },
            "header": {
             "fill": {
              "color": "#C8D4E3"
             },
             "line": {
              "color": "white"
             }
            },
            "type": "table"
           }
          ]
         },
         "layout": {
          "annotationdefaults": {
           "arrowcolor": "#2a3f5f",
           "arrowhead": 0,
           "arrowwidth": 1
          },
          "autotypenumbers": "strict",
          "coloraxis": {
           "colorbar": {
            "outlinewidth": 0,
            "ticks": ""
           }
          },
          "colorscale": {
           "diverging": [
            [
             0,
             "#8e0152"
            ],
            [
             0.1,
             "#c51b7d"
            ],
            [
             0.2,
             "#de77ae"
            ],
            [
             0.3,
             "#f1b6da"
            ],
            [
             0.4,
             "#fde0ef"
            ],
            [
             0.5,
             "#f7f7f7"
            ],
            [
             0.6,
             "#e6f5d0"
            ],
            [
             0.7,
             "#b8e186"
            ],
            [
             0.8,
             "#7fbc41"
            ],
            [
             0.9,
             "#4d9221"
            ],
            [
             1,
             "#276419"
            ]
           ],
           "sequential": [
            [
             0,
             "#0d0887"
            ],
            [
             0.1111111111111111,
             "#46039f"
            ],
            [
             0.2222222222222222,
             "#7201a8"
            ],
            [
             0.3333333333333333,
             "#9c179e"
            ],
            [
             0.4444444444444444,
             "#bd3786"
            ],
            [
             0.5555555555555556,
             "#d8576b"
            ],
            [
             0.6666666666666666,
             "#ed7953"
            ],
            [
             0.7777777777777778,
             "#fb9f3a"
            ],
            [
             0.8888888888888888,
             "#fdca26"
            ],
            [
             1,
             "#f0f921"
            ]
           ],
           "sequentialminus": [
            [
             0,
             "#0d0887"
            ],
            [
             0.1111111111111111,
             "#46039f"
            ],
            [
             0.2222222222222222,
             "#7201a8"
            ],
            [
             0.3333333333333333,
             "#9c179e"
            ],
            [
             0.4444444444444444,
             "#bd3786"
            ],
            [
             0.5555555555555556,
             "#d8576b"
            ],
            [
             0.6666666666666666,
             "#ed7953"
            ],
            [
             0.7777777777777778,
             "#fb9f3a"
            ],
            [
             0.8888888888888888,
             "#fdca26"
            ],
            [
             1,
             "#f0f921"
            ]
           ]
          },
          "colorway": [
           "#636efa",
           "#EF553B",
           "#00cc96",
           "#ab63fa",
           "#FFA15A",
           "#19d3f3",
           "#FF6692",
           "#B6E880",
           "#FF97FF",
           "#FECB52"
          ],
          "font": {
           "color": "#2a3f5f"
          },
          "geo": {
           "bgcolor": "white",
           "lakecolor": "white",
           "landcolor": "#E5ECF6",
           "showlakes": true,
           "showland": true,
           "subunitcolor": "white"
          },
          "hoverlabel": {
           "align": "left"
          },
          "hovermode": "closest",
          "mapbox": {
           "style": "light"
          },
          "paper_bgcolor": "white",
          "plot_bgcolor": "#E5ECF6",
          "polar": {
           "angularaxis": {
            "gridcolor": "white",
            "linecolor": "white",
            "ticks": ""
           },
           "bgcolor": "#E5ECF6",
           "radialaxis": {
            "gridcolor": "white",
            "linecolor": "white",
            "ticks": ""
           }
          },
          "scene": {
           "xaxis": {
            "backgroundcolor": "#E5ECF6",
            "gridcolor": "white",
            "gridwidth": 2,
            "linecolor": "white",
            "showbackground": true,
            "ticks": "",
            "zerolinecolor": "white"
           },
           "yaxis": {
            "backgroundcolor": "#E5ECF6",
            "gridcolor": "white",
            "gridwidth": 2,
            "linecolor": "white",
            "showbackground": true,
            "ticks": "",
            "zerolinecolor": "white"
           },
           "zaxis": {
            "backgroundcolor": "#E5ECF6",
            "gridcolor": "white",
            "gridwidth": 2,
            "linecolor": "white",
            "showbackground": true,
            "ticks": "",
            "zerolinecolor": "white"
           }
          },
          "shapedefaults": {
           "line": {
            "color": "#2a3f5f"
           }
          },
          "ternary": {
           "aaxis": {
            "gridcolor": "white",
            "linecolor": "white",
            "ticks": ""
           },
           "baxis": {
            "gridcolor": "white",
            "linecolor": "white",
            "ticks": ""
           },
           "bgcolor": "#E5ECF6",
           "caxis": {
            "gridcolor": "white",
            "linecolor": "white",
            "ticks": ""
           }
          },
          "title": {
           "x": 0.05
          },
          "xaxis": {
           "automargin": true,
           "gridcolor": "white",
           "linecolor": "white",
           "ticks": "",
           "title": {
            "standoff": 15
           },
           "zerolinecolor": "white",
           "zerolinewidth": 2
          },
          "yaxis": {
           "automargin": true,
           "gridcolor": "white",
           "linecolor": "white",
           "ticks": "",
           "title": {
            "standoff": 15
           },
           "zerolinecolor": "white",
           "zerolinewidth": 2
          }
         }
        },
        "xaxis": {
         "title": {
          "text": "TV (Ad Spending)"
         }
        },
        "yaxis": {
         "title": {
          "text": "Sales"
         }
        }
       }
      }
     },
     "metadata": {},
     "output_type": "display_data"
    }
   ],
   "source": [
    "fig = go.Figure()\n",
    "fig.add_trace(go.Scatter(x = X_train, y = y_train, mode = 'markers', name = 'Data Point'))\n",
    "fig.add_trace(go.Scatter(x = X_train, y = intercept + slope * X_train, mode = 'lines', name = 'Linear Regression'))\n",
    "fig.update_layout(\n",
    "    xaxis_title=\"TV (Ad Spending)\",\n",
    "    yaxis_title=\"Sales\"\n",
    ")"
   ]
  },
  {
   "cell_type": "markdown",
   "id": "92647b95-c422-490d-9b10-519ad6fc36d5",
   "metadata": {
    "id": "92647b95-c422-490d-9b10-519ad6fc36d5"
   },
   "source": [
    "<h3>SSE (Sum of Squares Error) Calculation after approximate parameters values</h3>\n",
    "<h2>$$SSE=\\sum_{i=0}^n(y_i - \\hat{y_i})^2$$</h2>"
   ]
  },
  {
   "cell_type": "code",
   "execution_count": 17,
   "id": "c6e9b876-0fc3-4d9c-abdf-4bc724cea82d",
   "metadata": {
    "id": "c6e9b876-0fc3-4d9c-abdf-4bc724cea82d"
   },
   "outputs": [
    {
     "name": "stdout",
     "output_type": "stream",
     "text": [
      "SSE = 1587.5295553412589, 1.587530e+03\n"
     ]
    }
   ],
   "source": [
    "# SSE after approximate intercept and slope = 0\n",
    "y_pred_train_set = intercept + slope * X_train\n",
    "\n",
    "SSE = np.sum((y_train - y_pred_train_set)**2)\n",
    "\n",
    "scientific_notation = \"{:e}\".format(SSE)\n",
    "print(f\"SSE = {SSE}, {scientific_notation}\")"
   ]
  },
  {
   "cell_type": "markdown",
   "id": "4865ca28-c889-468e-9be6-39dd9065ceb9",
   "metadata": {
    "id": "4865ca28-c889-468e-9be6-39dd9065ceb9"
   },
   "source": [
    "<h3>R-Squared</h3>\n"
   ]
  },
  {
   "cell_type": "code",
   "execution_count": 18,
   "id": "74ac26e0-6fcb-42a8-8fd8-53711053d034",
   "metadata": {
    "id": "74ac26e0-6fcb-42a8-8fd8-53711053d034"
   },
   "outputs": [
    {
     "name": "stdout",
     "output_type": "stream",
     "text": [
      "R-squared: 0.6742410534318501\n"
     ]
    }
   ],
   "source": [
    "y_pred_test_set = intercept + (slope * X_test)\n",
    "\n",
    "r2 = r2_score(y_test, y_pred_test_set)\n",
    "print(f\"R-squared: {r2}\")"
   ]
  },
  {
   "cell_type": "code",
   "execution_count": 19,
   "id": "b162ebe6-6383-47c7-ba89-c4b7d4b1f40c",
   "metadata": {
    "id": "b162ebe6-6383-47c7-ba89-c4b7d4b1f40c"
   },
   "outputs": [
    {
     "name": "stdout",
     "output_type": "stream",
     "text": [
      "Ad Spending of TV = 10.0 units\n",
      "----------------------------------\n",
      "Prediction of Sales = 7.8845 units\n"
     ]
    }
   ],
   "source": [
    "# Prediction\n",
    "Ad_spen_TV = float(input())\n",
    "predict_sales = intercept + slope * Ad_spen_TV\n",
    "print(f\"Ad Spending of TV = {Ad_spen_TV} units\\n----------------------------------\\nPrediction of Sales = {round(predict_sales, 4)} units\")"
   ]
  },
  {
   "cell_type": "code",
   "execution_count": 20,
   "id": "YMlPOBwl7QTO",
   "metadata": {
    "id": "YMlPOBwl7QTO"
   },
   "outputs": [
    {
     "name": "stdout",
     "output_type": "stream",
     "text": [
      "Requirement already satisfied: gradio in c:\\users\\sampe\\appdata\\local\\programs\\python\\python311\\lib\\site-packages (4.19.2)\n",
      "Requirement already satisfied: aiofiles<24.0,>=22.0 in c:\\users\\sampe\\appdata\\local\\programs\\python\\python311\\lib\\site-packages (from gradio) (23.2.1)\n",
      "Requirement already satisfied: altair<6.0,>=4.2.0 in c:\\users\\sampe\\appdata\\local\\programs\\python\\python311\\lib\\site-packages (from gradio) (5.2.0)\n",
      "Requirement already satisfied: fastapi in c:\\users\\sampe\\appdata\\local\\programs\\python\\python311\\lib\\site-packages (from gradio) (0.109.2)\n",
      "Requirement already satisfied: ffmpy in c:\\users\\sampe\\appdata\\local\\programs\\python\\python311\\lib\\site-packages (from gradio) (0.3.2)\n",
      "Requirement already satisfied: gradio-client==0.10.1 in c:\\users\\sampe\\appdata\\local\\programs\\python\\python311\\lib\\site-packages (from gradio) (0.10.1)\n",
      "Requirement already satisfied: httpx>=0.24.1 in c:\\users\\sampe\\appdata\\local\\programs\\python\\python311\\lib\\site-packages (from gradio) (0.27.0)\n",
      "Requirement already satisfied: huggingface-hub>=0.19.3 in c:\\users\\sampe\\appdata\\local\\programs\\python\\python311\\lib\\site-packages (from gradio) (0.20.3)\n",
      "Requirement already satisfied: importlib-resources<7.0,>=1.3 in c:\\users\\sampe\\appdata\\local\\programs\\python\\python311\\lib\\site-packages (from gradio) (6.1.1)\n",
      "Requirement already satisfied: jinja2<4.0 in c:\\users\\sampe\\appdata\\local\\programs\\python\\python311\\lib\\site-packages (from gradio) (3.1.2)\n",
      "Requirement already satisfied: markupsafe~=2.0 in c:\\users\\sampe\\appdata\\local\\programs\\python\\python311\\lib\\site-packages (from gradio) (2.1.3)\n",
      "Requirement already satisfied: matplotlib~=3.0 in c:\\users\\sampe\\appdata\\local\\programs\\python\\python311\\lib\\site-packages (from gradio) (3.8.3)\n",
      "Requirement already satisfied: numpy~=1.0 in c:\\users\\sampe\\appdata\\local\\programs\\python\\python311\\lib\\site-packages (from gradio) (1.24.3)\n",
      "Requirement already satisfied: orjson~=3.0 in c:\\users\\sampe\\appdata\\local\\programs\\python\\python311\\lib\\site-packages (from gradio) (3.9.14)\n",
      "Requirement already satisfied: packaging in c:\\users\\sampe\\appdata\\roaming\\python\\python311\\site-packages (from gradio) (23.1)\n",
      "Requirement already satisfied: pandas<3.0,>=1.0 in c:\\users\\sampe\\appdata\\local\\programs\\python\\python311\\lib\\site-packages (from gradio) (2.1.2)\n",
      "Requirement already satisfied: pillow<11.0,>=8.0 in c:\\users\\sampe\\appdata\\local\\programs\\python\\python311\\lib\\site-packages (from gradio) (10.1.0)\n",
      "Requirement already satisfied: pydantic>=2.0 in c:\\users\\sampe\\appdata\\local\\programs\\python\\python311\\lib\\site-packages (from gradio) (2.6.1)\n",
      "Requirement already satisfied: pydub in c:\\users\\sampe\\appdata\\local\\programs\\python\\python311\\lib\\site-packages (from gradio) (0.25.1)\n",
      "Requirement already satisfied: python-multipart>=0.0.9 in c:\\users\\sampe\\appdata\\local\\programs\\python\\python311\\lib\\site-packages (from gradio) (0.0.9)\n",
      "Requirement already satisfied: pyyaml<7.0,>=5.0 in c:\\users\\sampe\\appdata\\local\\programs\\python\\python311\\lib\\site-packages (from gradio) (6.0)\n",
      "Requirement already satisfied: ruff>=0.2.2 in c:\\users\\sampe\\appdata\\local\\programs\\python\\python311\\lib\\site-packages (from gradio) (0.2.2)\n",
      "Requirement already satisfied: semantic-version~=2.0 in c:\\users\\sampe\\appdata\\local\\programs\\python\\python311\\lib\\site-packages (from gradio) (2.10.0)\n",
      "Requirement already satisfied: tomlkit==0.12.0 in c:\\users\\sampe\\appdata\\local\\programs\\python\\python311\\lib\\site-packages (from gradio) (0.12.0)\n",
      "Requirement already satisfied: typer<1.0,>=0.9 in c:\\users\\sampe\\appdata\\local\\programs\\python\\python311\\lib\\site-packages (from typer[all]<1.0,>=0.9->gradio) (0.9.0)\n",
      "Requirement already satisfied: typing-extensions~=4.0 in c:\\users\\sampe\\appdata\\local\\programs\\python\\python311\\lib\\site-packages (from gradio) (4.9.0)\n",
      "Requirement already satisfied: uvicorn>=0.14.0 in c:\\users\\sampe\\appdata\\local\\programs\\python\\python311\\lib\\site-packages (from gradio) (0.27.1)\n",
      "Requirement already satisfied: fsspec in c:\\users\\sampe\\appdata\\local\\programs\\python\\python311\\lib\\site-packages (from gradio-client==0.10.1->gradio) (2024.2.0)\n",
      "Requirement already satisfied: websockets<12.0,>=10.0 in c:\\users\\sampe\\appdata\\local\\programs\\python\\python311\\lib\\site-packages (from gradio-client==0.10.1->gradio) (10.4)\n",
      "Requirement already satisfied: jsonschema>=3.0 in c:\\users\\sampe\\appdata\\local\\programs\\python\\python311\\lib\\site-packages (from altair<6.0,>=4.2.0->gradio) (4.20.0)\n",
      "Requirement already satisfied: toolz in c:\\users\\sampe\\appdata\\local\\programs\\python\\python311\\lib\\site-packages (from altair<6.0,>=4.2.0->gradio) (0.12.1)\n",
      "Requirement already satisfied: anyio in c:\\users\\sampe\\appdata\\local\\programs\\python\\python311\\lib\\site-packages (from httpx>=0.24.1->gradio) (4.1.0)\n",
      "Requirement already satisfied: certifi in c:\\users\\sampe\\appdata\\local\\programs\\python\\python311\\lib\\site-packages (from httpx>=0.24.1->gradio) (2023.7.22)\n",
      "Requirement already satisfied: httpcore==1.* in c:\\users\\sampe\\appdata\\local\\programs\\python\\python311\\lib\\site-packages (from httpx>=0.24.1->gradio) (1.0.4)\n",
      "Requirement already satisfied: idna in c:\\users\\sampe\\appdata\\local\\programs\\python\\python311\\lib\\site-packages (from httpx>=0.24.1->gradio) (3.4)\n",
      "Requirement already satisfied: sniffio in c:\\users\\sampe\\appdata\\local\\programs\\python\\python311\\lib\\site-packages (from httpx>=0.24.1->gradio) (1.3.0)\n",
      "Requirement already satisfied: h11<0.15,>=0.13 in c:\\users\\sampe\\appdata\\local\\programs\\python\\python311\\lib\\site-packages (from httpcore==1.*->httpx>=0.24.1->gradio) (0.14.0)\n",
      "Requirement already satisfied: filelock in c:\\users\\sampe\\appdata\\local\\programs\\python\\python311\\lib\\site-packages (from huggingface-hub>=0.19.3->gradio) (3.13.1)\n",
      "Requirement already satisfied: requests in c:\\users\\sampe\\appdata\\local\\programs\\python\\python311\\lib\\site-packages (from huggingface-hub>=0.19.3->gradio) (2.31.0)\n",
      "Requirement already satisfied: tqdm>=4.42.1 in c:\\users\\sampe\\appdata\\local\\programs\\python\\python311\\lib\\site-packages (from huggingface-hub>=0.19.3->gradio) (4.66.2)\n",
      "Requirement already satisfied: contourpy>=1.0.1 in c:\\users\\sampe\\appdata\\local\\programs\\python\\python311\\lib\\site-packages (from matplotlib~=3.0->gradio) (1.2.0)\n",
      "Requirement already satisfied: cycler>=0.10 in c:\\users\\sampe\\appdata\\local\\programs\\python\\python311\\lib\\site-packages (from matplotlib~=3.0->gradio) (0.12.1)\n",
      "Requirement already satisfied: fonttools>=4.22.0 in c:\\users\\sampe\\appdata\\local\\programs\\python\\python311\\lib\\site-packages (from matplotlib~=3.0->gradio) (4.44.0)\n",
      "Requirement already satisfied: kiwisolver>=1.3.1 in c:\\users\\sampe\\appdata\\local\\programs\\python\\python311\\lib\\site-packages (from matplotlib~=3.0->gradio) (1.4.5)\n",
      "Requirement already satisfied: pyparsing>=2.3.1 in c:\\users\\sampe\\appdata\\local\\programs\\python\\python311\\lib\\site-packages (from matplotlib~=3.0->gradio) (3.1.1)\n",
      "Requirement already satisfied: python-dateutil>=2.7 in c:\\users\\sampe\\appdata\\roaming\\python\\python311\\site-packages (from matplotlib~=3.0->gradio) (2.8.2)\n",
      "Requirement already satisfied: pytz>=2020.1 in c:\\users\\sampe\\appdata\\local\\programs\\python\\python311\\lib\\site-packages (from pandas<3.0,>=1.0->gradio) (2023.3.post1)\n",
      "Requirement already satisfied: tzdata>=2022.1 in c:\\users\\sampe\\appdata\\local\\programs\\python\\python311\\lib\\site-packages (from pandas<3.0,>=1.0->gradio) (2023.3)\n",
      "Requirement already satisfied: annotated-types>=0.4.0 in c:\\users\\sampe\\appdata\\local\\programs\\python\\python311\\lib\\site-packages (from pydantic>=2.0->gradio) (0.6.0)\n",
      "Requirement already satisfied: pydantic-core==2.16.2 in c:\\users\\sampe\\appdata\\local\\programs\\python\\python311\\lib\\site-packages (from pydantic>=2.0->gradio) (2.16.2)\n",
      "Requirement already satisfied: click<9.0.0,>=7.1.1 in c:\\users\\sampe\\appdata\\local\\programs\\python\\python311\\lib\\site-packages (from typer<1.0,>=0.9->typer[all]<1.0,>=0.9->gradio) (8.1.7)\n",
      "Requirement already satisfied: colorama<0.5.0,>=0.4.3 in c:\\users\\sampe\\appdata\\roaming\\python\\python311\\site-packages (from typer[all]<1.0,>=0.9->gradio) (0.4.6)\n",
      "Requirement already satisfied: shellingham<2.0.0,>=1.3.0 in c:\\users\\sampe\\appdata\\local\\programs\\python\\python311\\lib\\site-packages (from typer[all]<1.0,>=0.9->gradio) (1.5.4)\n",
      "Requirement already satisfied: rich<14.0.0,>=10.11.0 in c:\\users\\sampe\\appdata\\local\\programs\\python\\python311\\lib\\site-packages (from typer[all]<1.0,>=0.9->gradio) (13.5.3)\n",
      "Requirement already satisfied: starlette<0.37.0,>=0.36.3 in c:\\users\\sampe\\appdata\\local\\programs\\python\\python311\\lib\\site-packages (from fastapi->gradio) (0.36.3)\n",
      "Requirement already satisfied: attrs>=22.2.0 in c:\\users\\sampe\\appdata\\local\\programs\\python\\python311\\lib\\site-packages (from jsonschema>=3.0->altair<6.0,>=4.2.0->gradio) (23.1.0)\n",
      "Requirement already satisfied: jsonschema-specifications>=2023.03.6 in c:\\users\\sampe\\appdata\\local\\programs\\python\\python311\\lib\\site-packages (from jsonschema>=3.0->altair<6.0,>=4.2.0->gradio) (2023.11.2)\n",
      "Requirement already satisfied: referencing>=0.28.4 in c:\\users\\sampe\\appdata\\local\\programs\\python\\python311\\lib\\site-packages (from jsonschema>=3.0->altair<6.0,>=4.2.0->gradio) (0.31.1)\n",
      "Requirement already satisfied: rpds-py>=0.7.1 in c:\\users\\sampe\\appdata\\local\\programs\\python\\python311\\lib\\site-packages (from jsonschema>=3.0->altair<6.0,>=4.2.0->gradio) (0.13.2)\n",
      "Requirement already satisfied: six>=1.5 in c:\\users\\sampe\\appdata\\roaming\\python\\python311\\site-packages (from python-dateutil>=2.7->matplotlib~=3.0->gradio) (1.16.0)\n",
      "Requirement already satisfied: markdown-it-py>=2.2.0 in c:\\users\\sampe\\appdata\\local\\programs\\python\\python311\\lib\\site-packages (from rich<14.0.0,>=10.11.0->typer[all]<1.0,>=0.9->gradio) (3.0.0)\n",
      "Requirement already satisfied: pygments<3.0.0,>=2.13.0 in c:\\users\\sampe\\appdata\\roaming\\python\\python311\\site-packages (from rich<14.0.0,>=10.11.0->typer[all]<1.0,>=0.9->gradio) (2.15.1)\n",
      "Requirement already satisfied: charset-normalizer<4,>=2 in c:\\users\\sampe\\appdata\\local\\programs\\python\\python311\\lib\\site-packages (from requests->huggingface-hub>=0.19.3->gradio) (3.2.0)\n",
      "Requirement already satisfied: urllib3<3,>=1.21.1 in c:\\users\\sampe\\appdata\\local\\programs\\python\\python311\\lib\\site-packages (from requests->huggingface-hub>=0.19.3->gradio) (1.26.18)\n",
      "Requirement already satisfied: mdurl~=0.1 in c:\\users\\sampe\\appdata\\local\\programs\\python\\python311\\lib\\site-packages (from markdown-it-py>=2.2.0->rich<14.0.0,>=10.11.0->typer[all]<1.0,>=0.9->gradio) (0.1.2)\n"
     ]
    }
   ],
   "source": [
    "# install module \"gradio\"\n",
    "!pip install gradio"
   ]
  },
  {
   "cell_type": "code",
   "execution_count": 21,
   "id": "a425edc8-bd37-467a-9e21-9a01af211fec",
   "metadata": {
    "id": "a425edc8-bd37-467a-9e21-9a01af211fec"
   },
   "outputs": [
    {
     "name": "stdout",
     "output_type": "stream",
     "text": [
      "Running on local URL:  http://127.0.0.1:7864\n",
      "\n",
      "To create a public link, set `share=True` in `launch()`.\n"
     ]
    },
    {
     "data": {
      "text/html": [
       "<div><iframe src=\"http://127.0.0.1:7864/\" width=\"100%\" height=\"500\" allow=\"autoplay; camera; microphone; clipboard-read; clipboard-write;\" frameborder=\"0\" allowfullscreen></iframe></div>"
      ],
      "text/plain": [
       "<IPython.core.display.HTML object>"
      ]
     },
     "metadata": {},
     "output_type": "display_data"
    },
    {
     "data": {
      "text/plain": []
     },
     "execution_count": 21,
     "metadata": {},
     "output_type": "execute_result"
    }
   ],
   "source": [
    "import gradio as gr\n",
    "\n",
    "def prediction(X):\n",
    "    y_pred = intercept + slope * X\n",
    "    return round(y_pred, 4)\n",
    "\n",
    "demo = gr.Interface(\n",
    "    fn=prediction,\n",
    "    inputs=[\"number\"],\n",
    "    outputs=[\"text\"],\n",
    ")\n",
    "\n",
    "demo.launch()\n"
   ]
  }
 ],
 "metadata": {
  "colab": {
   "provenance": [],
   "toc_visible": true
  },
  "kernelspec": {
   "display_name": "Python 3 (ipykernel)",
   "language": "python",
   "name": "python3"
  },
  "language_info": {
   "codemirror_mode": {
    "name": "ipython",
    "version": 3
   },
   "file_extension": ".py",
   "mimetype": "text/x-python",
   "name": "python",
   "nbconvert_exporter": "python",
   "pygments_lexer": "ipython3",
   "version": "3.11.4"
  }
 },
 "nbformat": 4,
 "nbformat_minor": 5
}
