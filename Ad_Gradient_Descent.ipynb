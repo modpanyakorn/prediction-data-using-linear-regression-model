{
 "cells": [
  {
   "cell_type": "markdown",
   "id": "3314534f",
   "metadata": {},
   "source": [
    "# Gradient Descent"
   ]
  },
  {
   "cell_type": "code",
   "execution_count": null,
   "id": "54fe4343-a60f-48b4-ad7d-c2c91a3425a4",
   "metadata": {},
   "outputs": [],
   "source": [
    "import numpy as np\n",
    "import pandas as pd\n",
    "import matplotlib.pyplot as plt\n",
    "import seaborn as sns\n",
    "import plotly.graph_objects as go\n",
    "from tqdm import tqdm\n",
    "\n",
    "from sklearn.model_selection import train_test_split\n",
    "from sklearn.metrics import r2_score"
   ]
  },
  {
   "cell_type": "markdown",
   "id": "d41bffb4-26d9-48bb-a442-594f445510d4",
   "metadata": {},
   "source": [
    "<h3>Import Data Set <code>Advertising.csv</code></h3>"
   ]
  },
  {
   "cell_type": "code",
   "execution_count": null,
   "id": "4be3c124-b36b-4d0a-8ffe-cb285777fc7c",
   "metadata": {},
   "outputs": [],
   "source": [
    "df_Ad = pd.read_csv('Advertising.csv')\n",
    "df_Ad.head()"
   ]
  },
  {
   "cell_type": "code",
   "execution_count": null,
   "id": "acb22ade-d46c-407e-8c74-ac733e090821",
   "metadata": {},
   "outputs": [],
   "source": [
    "df_Ad.info()"
   ]
  },
  {
   "cell_type": "code",
   "execution_count": null,
   "id": "a70f05f8-e351-4749-8437-e669ab0f49d6",
   "metadata": {},
   "outputs": [],
   "source": [
    "df_Ad.isnull().sum()"
   ]
  },
  {
   "cell_type": "code",
   "execution_count": null,
   "id": "c0874d37-f62a-4abe-9ae2-d2bc92e6252f",
   "metadata": {},
   "outputs": [],
   "source": [
    "df_Ad.drop('Unnamed: 0', axis=1, inplace=True)"
   ]
  },
  {
   "cell_type": "markdown",
   "id": "2486c4ca-5985-43f2-ad1a-8701699a76ad",
   "metadata": {},
   "source": [
    "<h4> Calculate <code>Correlation Coefficient (Pearson's)</code> for display relation of data\n",
    "$$r = \\frac{\\sum_{i=1}^{n}(x_i - \\bar{x})(y_i - \\bar{y})}{\\sqrt{\\sum_{i=1}^{n}(x_i - \\bar{x})^2 \\sum_{i=1}^{n}(y_i - \\bar{y})^2}}$$\n",
    "<h4>or use function<code>dataframe.corr()</code></h4>"
   ]
  },
  {
   "cell_type": "code",
   "execution_count": null,
   "id": "8eff2fcf-7d9f-4a45-b4d4-ce2509d3c726",
   "metadata": {},
   "outputs": [],
   "source": [
    "sns.heatmap(df_Ad.corr(), annot=True)"
   ]
  },
  {
   "cell_type": "markdown",
   "id": "5545fbc3-5641-4ff2-b9dd-8d59662b2cae",
   "metadata": {},
   "source": [
    "<h3>Scatter Plot</h3>"
   ]
  },
  {
   "cell_type": "code",
   "execution_count": null,
   "id": "dc1ab7dc-6ed7-456e-8a52-022e1590a532",
   "metadata": {},
   "outputs": [],
   "source": [
    "go.Figure(go.Scatter(x=df_Ad.TV, y=df_Ad.Sales, mode='markers', name='Data'))"
   ]
  },
  {
   "cell_type": "markdown",
   "id": "5e07ae43-5202-453d-a579-27afa369b507",
   "metadata": {},
   "source": [
    "<h3>Data Spliting <code>Train Test Split</code></h3>"
   ]
  },
  {
   "cell_type": "code",
   "execution_count": null,
   "id": "3940dca1-5a0d-4364-a972-c3542b995382",
   "metadata": {},
   "outputs": [],
   "source": [
    "# Train test split\n",
    "X = np.array(df_Ad.TV)\n",
    "y = np.array(df_Ad.Sales)\n",
    "X_train, X_test, y_train, y_test = train_test_split(X, y, test_size=0.25, random_state=42) # 58 699199"
   ]
  },
  {
   "cell_type": "code",
   "execution_count": null,
   "id": "45a76aaf-9d29-4a2d-bb37-3347863ef868",
   "metadata": {},
   "outputs": [],
   "source": [
    "print(f\"X_train size = {X_train.size} \\ny_train size = {y_train.size} \\n------------------\")\n",
    "print(f\"X_test size = {X_test.size} \\ny_test size = {y_test.size}\")"
   ]
  },
  {
   "cell_type": "markdown",
   "id": "fdfcc27b-3bfd-4150-b844-8872354b4e57",
   "metadata": {},
   "source": [
    "<h3>SSE (Sum of Squares Error) Calculation when {intercept = 0, slope = 0}</h3>\n",
    "$$SSE=\\sum_{i=0}^n(y_i - \\hat{y_i})^2$$"
   ]
  },
  {
   "cell_type": "code",
   "execution_count": null,
   "id": "13b379a2-847f-49dc-bf35-fbfd346d12ff",
   "metadata": {},
   "outputs": [],
   "source": [
    "# SSE when intercept and slope = 0\n",
    "SSE_0 = np.sum((y_train - 0 + 0 * X_train)**2)\n",
    "\n",
    "scientific_notation = \"{:e}\".format(SSE_0)\n",
    "print(f\"SSE_0 = {SSE_0}, {scientific_notation}\")"
   ]
  },
  {
   "cell_type": "markdown",
   "id": "c81e7269-2381-4e74-9b7e-3f72652d679f",
   "metadata": {},
   "source": [
    "<h3>Create function <code>gradient_descent()</code> for approximate parameter {Intercept, Slope} use</h3>\n",
    "<h2>$$intercept_{new}=intercept_{old}-({\\frac{\\partial{SSE}}{\\partial{intercept}}}\\alpha)$$</h2>\n",
    "<h2>$$slope_{new}=slope_{old}-({\\frac{\\partial{SSE}}{\\partial{slope}}}\\alpha)$$</h2>\n",
    "<h3>where $$ \\alpha = Learning Rate$$</h3>"
   ]
  },
  {
   "cell_type": "code",
   "execution_count": null,
   "id": "0c03ded4-cdf3-45ca-a8dc-18d4aaef7630",
   "metadata": {},
   "outputs": [],
   "source": [
    "def gradeint_descent(X, y, learning_rate, iteration, round_epochs):\n",
    "    intercept = 0\n",
    "    slope = 0\n",
    "    sse_list = []\n",
    "    with tqdm(total=iteration) as pbar:\n",
    "        for i in range(iteration):\n",
    "            sse = np.sum((y - intercept - slope * X)**2)\n",
    "            diff_sse_intercept = np.sum(-2 * (y - intercept - slope * X))\n",
    "            diff_sse_slope = np.sum(-2 * (y - intercept - slope * X) * X)\n",
    "\n",
    "            step_size_intercept = diff_sse_intercept * learning_rate\n",
    "            step_size_slope = diff_sse_slope * learning_rate\n",
    "\n",
    "            intercept = intercept - step_size_intercept\n",
    "            slope = slope - step_size_slope\n",
    "\n",
    "            sse_list.append(sse)\n",
    "\n",
    "            if (i + 1) % round_epochs == 0:\n",
    "                pbar.set_description(f'Iterate: {i + 1}, SSE: {sse}')\n",
    "                pbar.update(round_epochs)\n",
    "    return intercept, slope, sse_list"
   ]
  },
  {
   "cell_type": "markdown",
   "id": "fa3ec3f5-94a9-4058-87fa-925fd9dc8143",
   "metadata": {},
   "source": [
    "<h3>Approximation Parameter Values</h3>"
   ]
  },
  {
   "cell_type": "code",
   "execution_count": null,
   "id": "ae545e6b-9e4d-49f2-b890-4ae585e70afa",
   "metadata": {},
   "outputs": [],
   "source": [
    "iteration = 1000000 # 1M\n",
    "learn_rate = 1e-7\n",
    "intercept, slope, sse_list = gradeint_descent(X_train, y_train, learn_rate, iteration, 10000)\n",
    "print(f\"Intercept = {intercept}, slope = {slope}, \\nMaximum of SSE = {sse_list[0]} \\nMinimum of SSE = {sse_list[-1]}\")\n",
    "\n",
    "rng = np.arange(iteration)\n",
    "plt.plot(sse_list, rng)\n",
    "plt.show()"
   ]
  },
  {
   "cell_type": "markdown",
   "id": "0bca6b0a-ebe9-449e-a315-94887ba68ef8",
   "metadata": {},
   "source": [
    "<h3>Scatter Plot with Linear Regression Line</h3>"
   ]
  },
  {
   "cell_type": "code",
   "execution_count": null,
   "id": "15bdfe1f-9549-401f-b820-337b91eaaa6f",
   "metadata": {},
   "outputs": [],
   "source": [
    "fig = go.Figure()\n",
    "fig.add_trace(go.Scatter(x = X_train, y = y_train, mode = 'markers', name = 'Data Point'))\n",
    "fig.add_trace(go.Scatter(x = X_train, y = intercept + slope * X_train, mode = 'lines', name = 'Linear Regression'))\n",
    "fig.update_layout(\n",
    "    xaxis_title=\"TV (Ad Spending)\",\n",
    "    yaxis_title=\"Sales\"\n",
    ")"
   ]
  },
  {
   "cell_type": "markdown",
   "id": "92647b95-c422-490d-9b10-519ad6fc36d5",
   "metadata": {},
   "source": [
    "<h3>SSE (Sum of Squares Error) Calculation after approximate parameter values</h3>\n",
    "$$SSE=\\sum_{i=0}^n(y_i - \\hat{y_i})^2$$"
   ]
  },
  {
   "cell_type": "code",
   "execution_count": null,
   "id": "c6e9b876-0fc3-4d9c-abdf-4bc724cea82d",
   "metadata": {},
   "outputs": [],
   "source": [
    "# SSE after approximate intercept and slope = 0\n",
    "y_pred_train_set = intercept + slope * X_train\n",
    "\n",
    "SSE = np.sum((y_train - y_pred_train_set)**2)\n",
    "\n",
    "scientific_notation = \"{:e}\".format(SSE)\n",
    "print(f\"SSE = {SSE}, {scientific_notation}\")"
   ]
  },
  {
   "cell_type": "markdown",
   "id": "4865ca28-c889-468e-9be6-39dd9065ceb9",
   "metadata": {},
   "source": [
    "<h3>R-Squared</h3>\n"
   ]
  },
  {
   "cell_type": "code",
   "execution_count": null,
   "id": "74ac26e0-6fcb-42a8-8fd8-53711053d034",
   "metadata": {},
   "outputs": [],
   "source": [
    "y_pred_test_set = intercept + (slope * X_test)\n",
    "\n",
    "r2 = r2_score(y_test, y_pred_test_set)\n",
    "print(f\"R-squared: {r2}\")"
   ]
  },
  {
   "cell_type": "code",
   "execution_count": null,
   "id": "b162ebe6-6383-47c7-ba89-c4b7d4b1f40c",
   "metadata": {},
   "outputs": [],
   "source": [
    "# Prediction\n",
    "Ad_spen_TV = float(input())\n",
    "predict_sales = intercept + slope * Ad_spen_TV\n",
    "print(f\"Ad Spending of TV = {Ad_spen_TV} units\\n----------------------------------\\nPrediction of Sales = {round(predict_sales, 4)} units\") "
   ]
  },
  {
   "cell_type": "code",
   "execution_count": null,
   "id": "a425edc8-bd37-467a-9e21-9a01af211fec",
   "metadata": {},
   "outputs": [],
   "source": [
    "import gradio as gr\n",
    "\n",
    "def prediction(X):\n",
    "    y_pred = intercept + slope * X\n",
    "    return round(y_pred, 4)\n",
    "\n",
    "demo = gr.Interface(\n",
    "    fn=prediction,\n",
    "    inputs=[\"number\"],\n",
    "    outputs=[\"text\"],\n",
    ")\n",
    "\n",
    "demo.launch()\n"
   ]
  }
 ],
 "metadata": {
  "kernelspec": {
   "display_name": "Python 3 (ipykernel)",
   "language": "python",
   "name": "python3"
  },
  "language_info": {
   "codemirror_mode": {
    "name": "ipython",
    "version": 3
   },
   "file_extension": ".py",
   "mimetype": "text/x-python",
   "name": "python",
   "nbconvert_exporter": "python",
   "pygments_lexer": "ipython3",
   "version": "3.11.5"
  }
 },
 "nbformat": 4,
 "nbformat_minor": 5
}
